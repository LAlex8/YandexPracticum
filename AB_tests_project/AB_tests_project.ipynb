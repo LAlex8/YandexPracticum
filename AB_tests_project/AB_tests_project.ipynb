{
 "cells": [
  {
   "cell_type": "markdown",
   "metadata": {},
   "source": [
    "# Проверка гипотез по увеличению выручки в интернет-магазине и оценка результатов A/B теста"
   ]
  },
  {
   "cell_type": "markdown",
   "metadata": {},
   "source": [
    "# Описание проекта\n",
    "Вместе с отделом маркетинга крупного интернет-магазина мы подготовили список из 9 гипотез для увеличения выручки.\n",
    "В рамках исследовательского проекта приоритизируем гипотезы по фреймворкам ICE и RICE, построим графики кумулятивной выручки, среднего чека, конверсии по группам, а затем посчитаем статистическую значимость различий конверсий и средних чеков по сырым и очищенным данным. Запустим A/B-тест и проанализируем результаты исследования.\n"
   ]
  },
  {
   "cell_type": "markdown",
   "metadata": {},
   "source": [
    "## Загрузка данных и подготовка к анализу"
   ]
  },
  {
   "cell_type": "code",
   "execution_count": 78,
   "metadata": {},
   "outputs": [],
   "source": [
    "#импорт необходимых библиотек\n",
    "import pandas as pd\n",
    "import numpy as np\n",
    "import matplotlib.pyplot as plt\n",
    "from scipy import stats as st\n",
    "import datetime as dt\n",
    "import seaborn as sns\n",
    "import math as mth\n",
    "from IPython.display import display"
   ]
  },
  {
   "cell_type": "code",
   "execution_count": 2,
   "metadata": {},
   "outputs": [],
   "source": [
    "#чтение данных и сохранение в переменные\n",
    "try:\n",
    "    hypothesis = pd.read_csv('_.csv')\n",
    "except: \n",
    "    hypothesis = pd.read_csv('_.csv')\n",
    "    \n",
    "try:\n",
    "    orders = pd.read_csv('_.csv')\n",
    "except:\n",
    "    orders = pd.read_csv('_.csv')\n",
    "    \n",
    "try:\n",
    "    visitors = pd.read_csv('_.csv')\n",
    "except:\n",
    "    visitors = pd.read_csv('_.csv')"
   ]
  },
  {
   "cell_type": "markdown",
   "metadata": {},
   "source": [
    "### Предобработка датасета hypothesis"
   ]
  },
  {
   "cell_type": "code",
   "execution_count": 3,
   "metadata": {},
   "outputs": [
    {
     "data": {
      "text/html": [
       "<div>\n",
       "<style scoped>\n",
       "    .dataframe tbody tr th:only-of-type {\n",
       "        vertical-align: middle;\n",
       "    }\n",
       "\n",
       "    .dataframe tbody tr th {\n",
       "        vertical-align: top;\n",
       "    }\n",
       "\n",
       "    .dataframe thead th {\n",
       "        text-align: right;\n",
       "    }\n",
       "</style>\n",
       "<table border=\"1\" class=\"dataframe\">\n",
       "  <thead>\n",
       "    <tr style=\"text-align: right;\">\n",
       "      <th></th>\n",
       "      <th>Hypothesis</th>\n",
       "      <th>Reach</th>\n",
       "      <th>Impact</th>\n",
       "      <th>Confidence</th>\n",
       "      <th>Efforts</th>\n",
       "    </tr>\n",
       "  </thead>\n",
       "  <tbody>\n",
       "    <tr>\n",
       "      <th>0</th>\n",
       "      <td>Добавить два новых канала привлечения трафика,...</td>\n",
       "      <td>3</td>\n",
       "      <td>10</td>\n",
       "      <td>8</td>\n",
       "      <td>6</td>\n",
       "    </tr>\n",
       "    <tr>\n",
       "      <th>1</th>\n",
       "      <td>Запустить собственную службу доставки, что сок...</td>\n",
       "      <td>2</td>\n",
       "      <td>5</td>\n",
       "      <td>4</td>\n",
       "      <td>10</td>\n",
       "    </tr>\n",
       "    <tr>\n",
       "      <th>2</th>\n",
       "      <td>Добавить блоки рекомендаций товаров на сайт ин...</td>\n",
       "      <td>8</td>\n",
       "      <td>3</td>\n",
       "      <td>7</td>\n",
       "      <td>3</td>\n",
       "    </tr>\n",
       "    <tr>\n",
       "      <th>3</th>\n",
       "      <td>Изменить структура категорий, что увеличит кон...</td>\n",
       "      <td>8</td>\n",
       "      <td>3</td>\n",
       "      <td>3</td>\n",
       "      <td>8</td>\n",
       "    </tr>\n",
       "    <tr>\n",
       "      <th>4</th>\n",
       "      <td>Изменить цвет фона главной страницы, чтобы уве...</td>\n",
       "      <td>3</td>\n",
       "      <td>1</td>\n",
       "      <td>1</td>\n",
       "      <td>1</td>\n",
       "    </tr>\n",
       "    <tr>\n",
       "      <th>5</th>\n",
       "      <td>Добавить страницу отзывов клиентов о магазине,...</td>\n",
       "      <td>3</td>\n",
       "      <td>2</td>\n",
       "      <td>2</td>\n",
       "      <td>3</td>\n",
       "    </tr>\n",
       "    <tr>\n",
       "      <th>6</th>\n",
       "      <td>Показать на главной странице баннеры с актуаль...</td>\n",
       "      <td>5</td>\n",
       "      <td>3</td>\n",
       "      <td>8</td>\n",
       "      <td>3</td>\n",
       "    </tr>\n",
       "    <tr>\n",
       "      <th>7</th>\n",
       "      <td>Добавить форму подписки на все основные страни...</td>\n",
       "      <td>10</td>\n",
       "      <td>7</td>\n",
       "      <td>8</td>\n",
       "      <td>5</td>\n",
       "    </tr>\n",
       "    <tr>\n",
       "      <th>8</th>\n",
       "      <td>Запустить акцию, дающую скидку на товар в день...</td>\n",
       "      <td>1</td>\n",
       "      <td>9</td>\n",
       "      <td>9</td>\n",
       "      <td>5</td>\n",
       "    </tr>\n",
       "  </tbody>\n",
       "</table>\n",
       "</div>"
      ],
      "text/plain": [
       "                                          Hypothesis  Reach  Impact  \\\n",
       "0  Добавить два новых канала привлечения трафика,...      3      10   \n",
       "1  Запустить собственную службу доставки, что сок...      2       5   \n",
       "2  Добавить блоки рекомендаций товаров на сайт ин...      8       3   \n",
       "3  Изменить структура категорий, что увеличит кон...      8       3   \n",
       "4  Изменить цвет фона главной страницы, чтобы уве...      3       1   \n",
       "5  Добавить страницу отзывов клиентов о магазине,...      3       2   \n",
       "6  Показать на главной странице баннеры с актуаль...      5       3   \n",
       "7  Добавить форму подписки на все основные страни...     10       7   \n",
       "8  Запустить акцию, дающую скидку на товар в день...      1       9   \n",
       "\n",
       "   Confidence  Efforts  \n",
       "0           8        6  \n",
       "1           4       10  \n",
       "2           7        3  \n",
       "3           3        8  \n",
       "4           1        1  \n",
       "5           2        3  \n",
       "6           8        3  \n",
       "7           8        5  \n",
       "8           9        5  "
      ]
     },
     "metadata": {},
     "output_type": "display_data"
    },
    {
     "name": "stdout",
     "output_type": "stream",
     "text": [
      "<class 'pandas.core.frame.DataFrame'>\n",
      "RangeIndex: 9 entries, 0 to 8\n",
      "Data columns (total 5 columns):\n",
      " #   Column      Non-Null Count  Dtype \n",
      "---  ------      --------------  ----- \n",
      " 0   Hypothesis  9 non-null      object\n",
      " 1   Reach       9 non-null      int64 \n",
      " 2   Impact      9 non-null      int64 \n",
      " 3   Confidence  9 non-null      int64 \n",
      " 4   Efforts     9 non-null      int64 \n",
      "dtypes: int64(4), object(1)\n",
      "memory usage: 488.0+ bytes\n"
     ]
    },
    {
     "data": {
      "text/plain": [
       "Hypothesis    0\n",
       "Reach         0\n",
       "Impact        0\n",
       "Confidence    0\n",
       "Efforts       0\n",
       "dtype: int64"
      ]
     },
     "execution_count": 3,
     "metadata": {},
     "output_type": "execute_result"
    }
   ],
   "source": [
    "display(hypothesis)\n",
    "hypothesis.info()\n",
    "#проверка на наличие пропусков\n",
    "hypothesis.isna().sum()"
   ]
  },
  {
   "cell_type": "code",
   "execution_count": 4,
   "metadata": {},
   "outputs": [
    {
     "data": {
      "text/plain": [
       "0"
      ]
     },
     "execution_count": 4,
     "metadata": {},
     "output_type": "execute_result"
    }
   ],
   "source": [
    "#проверка на наличие дубликатов\n",
    "hypothesis.duplicated().sum()"
   ]
  },
  {
   "cell_type": "markdown",
   "metadata": {},
   "source": [
    "Данные целостные, типы данных корректны, пропусков и дубликатов нет. Для стилистического удобства и избежания потенциальных ошибок при проведении исследования, считаем целесообразным привести название столбцов к строчному написанию."
   ]
  },
  {
   "cell_type": "code",
   "execution_count": 5,
   "metadata": {},
   "outputs": [],
   "source": [
    "hypothesis.columns = hypothesis.columns.str.lower()"
   ]
  },
  {
   "cell_type": "markdown",
   "metadata": {},
   "source": [
    "### Предобработка датасета orders"
   ]
  },
  {
   "cell_type": "code",
   "execution_count": 6,
   "metadata": {},
   "outputs": [
    {
     "data": {
      "text/html": [
       "<div>\n",
       "<style scoped>\n",
       "    .dataframe tbody tr th:only-of-type {\n",
       "        vertical-align: middle;\n",
       "    }\n",
       "\n",
       "    .dataframe tbody tr th {\n",
       "        vertical-align: top;\n",
       "    }\n",
       "\n",
       "    .dataframe thead th {\n",
       "        text-align: right;\n",
       "    }\n",
       "</style>\n",
       "<table border=\"1\" class=\"dataframe\">\n",
       "  <thead>\n",
       "    <tr style=\"text-align: right;\">\n",
       "      <th></th>\n",
       "      <th>transactionId</th>\n",
       "      <th>visitorId</th>\n",
       "      <th>date</th>\n",
       "      <th>revenue</th>\n",
       "      <th>group</th>\n",
       "    </tr>\n",
       "  </thead>\n",
       "  <tbody>\n",
       "    <tr>\n",
       "      <th>0</th>\n",
       "      <td>3667963787</td>\n",
       "      <td>3312258926</td>\n",
       "      <td>2019-08-15</td>\n",
       "      <td>1650</td>\n",
       "      <td>B</td>\n",
       "    </tr>\n",
       "    <tr>\n",
       "      <th>1</th>\n",
       "      <td>2804400009</td>\n",
       "      <td>3642806036</td>\n",
       "      <td>2019-08-15</td>\n",
       "      <td>730</td>\n",
       "      <td>B</td>\n",
       "    </tr>\n",
       "    <tr>\n",
       "      <th>2</th>\n",
       "      <td>2961555356</td>\n",
       "      <td>4069496402</td>\n",
       "      <td>2019-08-15</td>\n",
       "      <td>400</td>\n",
       "      <td>A</td>\n",
       "    </tr>\n",
       "    <tr>\n",
       "      <th>3</th>\n",
       "      <td>3797467345</td>\n",
       "      <td>1196621759</td>\n",
       "      <td>2019-08-15</td>\n",
       "      <td>9759</td>\n",
       "      <td>B</td>\n",
       "    </tr>\n",
       "    <tr>\n",
       "      <th>4</th>\n",
       "      <td>2282983706</td>\n",
       "      <td>2322279887</td>\n",
       "      <td>2019-08-15</td>\n",
       "      <td>2308</td>\n",
       "      <td>B</td>\n",
       "    </tr>\n",
       "  </tbody>\n",
       "</table>\n",
       "</div>"
      ],
      "text/plain": [
       "   transactionId   visitorId        date  revenue group\n",
       "0     3667963787  3312258926  2019-08-15     1650     B\n",
       "1     2804400009  3642806036  2019-08-15      730     B\n",
       "2     2961555356  4069496402  2019-08-15      400     A\n",
       "3     3797467345  1196621759  2019-08-15     9759     B\n",
       "4     2282983706  2322279887  2019-08-15     2308     B"
      ]
     },
     "metadata": {},
     "output_type": "display_data"
    },
    {
     "name": "stdout",
     "output_type": "stream",
     "text": [
      "<class 'pandas.core.frame.DataFrame'>\n",
      "RangeIndex: 1197 entries, 0 to 1196\n",
      "Data columns (total 5 columns):\n",
      " #   Column         Non-Null Count  Dtype \n",
      "---  ------         --------------  ----- \n",
      " 0   transactionId  1197 non-null   int64 \n",
      " 1   visitorId      1197 non-null   int64 \n",
      " 2   date           1197 non-null   object\n",
      " 3   revenue        1197 non-null   int64 \n",
      " 4   group          1197 non-null   object\n",
      "dtypes: int64(3), object(2)\n",
      "memory usage: 46.9+ KB\n"
     ]
    },
    {
     "data": {
      "text/plain": [
       "transactionId    0\n",
       "visitorId        0\n",
       "date             0\n",
       "revenue          0\n",
       "group            0\n",
       "dtype: int64"
      ]
     },
     "execution_count": 6,
     "metadata": {},
     "output_type": "execute_result"
    }
   ],
   "source": [
    "display(orders.head())\n",
    "orders.info()\n",
    "#проверка на наличие пропусков\n",
    "orders.isna().sum()"
   ]
  },
  {
   "cell_type": "code",
   "execution_count": 7,
   "metadata": {},
   "outputs": [
    {
     "data": {
      "text/plain": [
       "0"
      ]
     },
     "execution_count": 7,
     "metadata": {},
     "output_type": "execute_result"
    }
   ],
   "source": [
    "#проверка на наличие дубликатов\n",
    "orders.duplicated().sum()"
   ]
  },
  {
   "cell_type": "markdown",
   "metadata": {},
   "source": [
    "Пропуски и дубликаты в датасете orders отсутствуют. Для удобства анализа приведем названия двух столбцов к написанию в \"змеином\" регистре. Так же необходимо изменить тип данных в колонке с датами заказов."
   ]
  },
  {
   "cell_type": "code",
   "execution_count": 8,
   "metadata": {},
   "outputs": [],
   "source": [
    "orders.columns = (orders.columns.str.replace('Id', '_id')).str.lower()"
   ]
  },
  {
   "cell_type": "code",
   "execution_count": 9,
   "metadata": {},
   "outputs": [],
   "source": [
    "orders['date'] = pd.to_datetime(orders['date'])"
   ]
  },
  {
   "cell_type": "code",
   "execution_count": 10,
   "metadata": {},
   "outputs": [
    {
     "data": {
      "text/html": [
       "<div>\n",
       "<style scoped>\n",
       "    .dataframe tbody tr th:only-of-type {\n",
       "        vertical-align: middle;\n",
       "    }\n",
       "\n",
       "    .dataframe tbody tr th {\n",
       "        vertical-align: top;\n",
       "    }\n",
       "\n",
       "    .dataframe thead th {\n",
       "        text-align: right;\n",
       "    }\n",
       "</style>\n",
       "<table border=\"1\" class=\"dataframe\">\n",
       "  <thead>\n",
       "    <tr style=\"text-align: right;\">\n",
       "      <th></th>\n",
       "      <th>transaction_id</th>\n",
       "      <th>visitor_id</th>\n",
       "      <th>date</th>\n",
       "      <th>revenue</th>\n",
       "      <th>group</th>\n",
       "    </tr>\n",
       "  </thead>\n",
       "  <tbody>\n",
       "    <tr>\n",
       "      <th>0</th>\n",
       "      <td>3667963787</td>\n",
       "      <td>3312258926</td>\n",
       "      <td>2019-08-15</td>\n",
       "      <td>1650</td>\n",
       "      <td>B</td>\n",
       "    </tr>\n",
       "    <tr>\n",
       "      <th>1</th>\n",
       "      <td>2804400009</td>\n",
       "      <td>3642806036</td>\n",
       "      <td>2019-08-15</td>\n",
       "      <td>730</td>\n",
       "      <td>B</td>\n",
       "    </tr>\n",
       "    <tr>\n",
       "      <th>2</th>\n",
       "      <td>2961555356</td>\n",
       "      <td>4069496402</td>\n",
       "      <td>2019-08-15</td>\n",
       "      <td>400</td>\n",
       "      <td>A</td>\n",
       "    </tr>\n",
       "    <tr>\n",
       "      <th>3</th>\n",
       "      <td>3797467345</td>\n",
       "      <td>1196621759</td>\n",
       "      <td>2019-08-15</td>\n",
       "      <td>9759</td>\n",
       "      <td>B</td>\n",
       "    </tr>\n",
       "    <tr>\n",
       "      <th>4</th>\n",
       "      <td>2282983706</td>\n",
       "      <td>2322279887</td>\n",
       "      <td>2019-08-15</td>\n",
       "      <td>2308</td>\n",
       "      <td>B</td>\n",
       "    </tr>\n",
       "  </tbody>\n",
       "</table>\n",
       "</div>"
      ],
      "text/plain": [
       "   transaction_id  visitor_id       date  revenue group\n",
       "0      3667963787  3312258926 2019-08-15     1650     B\n",
       "1      2804400009  3642806036 2019-08-15      730     B\n",
       "2      2961555356  4069496402 2019-08-15      400     A\n",
       "3      3797467345  1196621759 2019-08-15     9759     B\n",
       "4      2282983706  2322279887 2019-08-15     2308     B"
      ]
     },
     "metadata": {},
     "output_type": "display_data"
    },
    {
     "name": "stdout",
     "output_type": "stream",
     "text": [
      "<class 'pandas.core.frame.DataFrame'>\n",
      "RangeIndex: 1197 entries, 0 to 1196\n",
      "Data columns (total 5 columns):\n",
      " #   Column          Non-Null Count  Dtype         \n",
      "---  ------          --------------  -----         \n",
      " 0   transaction_id  1197 non-null   int64         \n",
      " 1   visitor_id      1197 non-null   int64         \n",
      " 2   date            1197 non-null   datetime64[ns]\n",
      " 3   revenue         1197 non-null   int64         \n",
      " 4   group           1197 non-null   object        \n",
      "dtypes: datetime64[ns](1), int64(3), object(1)\n",
      "memory usage: 46.9+ KB\n"
     ]
    }
   ],
   "source": [
    "display(orders.head())\n",
    "orders.info()"
   ]
  },
  {
   "cell_type": "markdown",
   "metadata": {},
   "source": [
    "Датафрейм готов к анализу."
   ]
  },
  {
   "cell_type": "markdown",
   "metadata": {},
   "source": [
    "### Предобработка датасета visitors"
   ]
  },
  {
   "cell_type": "code",
   "execution_count": 11,
   "metadata": {},
   "outputs": [
    {
     "data": {
      "text/html": [
       "<div>\n",
       "<style scoped>\n",
       "    .dataframe tbody tr th:only-of-type {\n",
       "        vertical-align: middle;\n",
       "    }\n",
       "\n",
       "    .dataframe tbody tr th {\n",
       "        vertical-align: top;\n",
       "    }\n",
       "\n",
       "    .dataframe thead th {\n",
       "        text-align: right;\n",
       "    }\n",
       "</style>\n",
       "<table border=\"1\" class=\"dataframe\">\n",
       "  <thead>\n",
       "    <tr style=\"text-align: right;\">\n",
       "      <th></th>\n",
       "      <th>date</th>\n",
       "      <th>group</th>\n",
       "      <th>visitors</th>\n",
       "    </tr>\n",
       "  </thead>\n",
       "  <tbody>\n",
       "    <tr>\n",
       "      <th>0</th>\n",
       "      <td>2019-08-01</td>\n",
       "      <td>A</td>\n",
       "      <td>719</td>\n",
       "    </tr>\n",
       "    <tr>\n",
       "      <th>1</th>\n",
       "      <td>2019-08-02</td>\n",
       "      <td>A</td>\n",
       "      <td>619</td>\n",
       "    </tr>\n",
       "    <tr>\n",
       "      <th>2</th>\n",
       "      <td>2019-08-03</td>\n",
       "      <td>A</td>\n",
       "      <td>507</td>\n",
       "    </tr>\n",
       "    <tr>\n",
       "      <th>3</th>\n",
       "      <td>2019-08-04</td>\n",
       "      <td>A</td>\n",
       "      <td>717</td>\n",
       "    </tr>\n",
       "    <tr>\n",
       "      <th>4</th>\n",
       "      <td>2019-08-05</td>\n",
       "      <td>A</td>\n",
       "      <td>756</td>\n",
       "    </tr>\n",
       "  </tbody>\n",
       "</table>\n",
       "</div>"
      ],
      "text/plain": [
       "         date group  visitors\n",
       "0  2019-08-01     A       719\n",
       "1  2019-08-02     A       619\n",
       "2  2019-08-03     A       507\n",
       "3  2019-08-04     A       717\n",
       "4  2019-08-05     A       756"
      ]
     },
     "metadata": {},
     "output_type": "display_data"
    },
    {
     "name": "stdout",
     "output_type": "stream",
     "text": [
      "<class 'pandas.core.frame.DataFrame'>\n",
      "RangeIndex: 62 entries, 0 to 61\n",
      "Data columns (total 3 columns):\n",
      " #   Column    Non-Null Count  Dtype \n",
      "---  ------    --------------  ----- \n",
      " 0   date      62 non-null     object\n",
      " 1   group     62 non-null     object\n",
      " 2   visitors  62 non-null     int64 \n",
      "dtypes: int64(1), object(2)\n",
      "memory usage: 1.6+ KB\n"
     ]
    },
    {
     "data": {
      "text/plain": [
       "date        0\n",
       "group       0\n",
       "visitors    0\n",
       "dtype: int64"
      ]
     },
     "execution_count": 11,
     "metadata": {},
     "output_type": "execute_result"
    }
   ],
   "source": [
    "display(visitors.head())\n",
    "visitors.info()\n",
    "#проверка на наличие пропусков\n",
    "visitors.isna().sum()"
   ]
  },
  {
   "cell_type": "code",
   "execution_count": 12,
   "metadata": {},
   "outputs": [
    {
     "data": {
      "text/plain": [
       "0"
      ]
     },
     "execution_count": 12,
     "metadata": {},
     "output_type": "execute_result"
    }
   ],
   "source": [
    "#проверка на наличие дубликатов\n",
    "visitors.duplicated().sum()"
   ]
  },
  {
   "cell_type": "code",
   "execution_count": 13,
   "metadata": {},
   "outputs": [],
   "source": [
    "visitors['date'] = pd.to_datetime(visitors['date'])"
   ]
  },
  {
   "cell_type": "markdown",
   "metadata": {},
   "source": [
    "Данные в датафрейме без пропусков и дубликатов, столбец с датами приведен к правильному типу данных. "
   ]
  },
  {
   "cell_type": "markdown",
   "metadata": {},
   "source": [
    "### Определение параметров групп для тестирования"
   ]
  },
  {
   "cell_type": "code",
   "execution_count": 88,
   "metadata": {},
   "outputs": [
    {
     "name": "stdout",
     "output_type": "stream",
     "text": [
      "Дата начала тестирования - 2019-08-01 00:00:00\n",
      "Дата окончания теста - 2019-08-31 00:00:00\n"
     ]
    }
   ],
   "source": [
    "#определение дат начала и окончания теста\n",
    "print('Дата начала тестирования -', orders['date'].min())\n",
    "print('Дата окончания теста -', orders['date'].max())"
   ]
  },
  {
   "cell_type": "code",
   "execution_count": 56,
   "metadata": {},
   "outputs": [
    {
     "name": "stdout",
     "output_type": "stream",
     "text": [
      "Количество групп в А/В тесте -  2\n"
     ]
    }
   ],
   "source": [
    "print('Количество групп в А/В тесте - ', len(orders['group'].unique()))"
   ]
  },
  {
   "cell_type": "code",
   "execution_count": 70,
   "metadata": {},
   "outputs": [
    {
     "data": {
      "text/plain": [
       "A    468\n",
       "B    548\n",
       "Name: group, dtype: int64"
      ]
     },
     "execution_count": 70,
     "metadata": {},
     "output_type": "execute_result"
    }
   ],
   "source": [
    "#определение размера групп для тестирования\n",
    "grp = orders['group'].value_counts().sort_values(key=lambda x: x, ascending=True)\n",
    "grp"
   ]
  },
  {
   "cell_type": "code",
   "execution_count": 84,
   "metadata": {},
   "outputs": [
    {
     "name": "stdout",
     "output_type": "stream",
     "text": [
      "Процентное соотношение участников группы A от общего количества: 46.06%\n",
      "Процентное соотношение участников группы B от общего количества: 53.94%\n"
     ]
    }
   ],
   "source": [
    "#процентная разбивка учасников тестирования по группам\n",
    "total = (orders['group'] == 'A').sum() + (orders['group'] == 'B').sum()\n",
    "percent_A = (orders['group'] == 'A').sum() / total * 100\n",
    "percent_B = (orders['group'] == 'B').sum() / total * 100\n",
    "print('Процентное соотношение участников группы A от общего количества: {:.2f}%'.format(percent_A))\n",
    "print('Процентное соотношение участников группы B от общего количества: {:.2f}%'.format(percent_B))"
   ]
  },
  {
   "cell_type": "code",
   "execution_count": 123,
   "metadata": {
    "scrolled": true
   },
   "outputs": [
    {
     "data": {
      "image/png": "[encoded data removed]",
      "text/plain": [
       "<Figure size 1080x504 with 1 Axes>"
      ]
     },
     "metadata": {
      "needs_background": "light"
     },
     "output_type": "display_data"
    }
   ],
   "source": [
    "# определение динамики посетителей по дням для каждой группы\n",
    "daily_visitors = visitors.groupby(['date', 'group'])['visitors'].sum()\n",
    "daily_visitors = daily_visitors.reset_index()\n",
    "# Построение графиков динамики посетителей для каждой группы\n",
    "plt.figure(figsize=(15,7))\n",
    "for group in ['A', 'B']:\n",
    "    group_data = daily_visitors.query(f\"group == '{group}'\")\n",
    "    plt.plot(group_data['date'], group_data['visitors'], label=group)\n",
    "plt.grid()\n",
    "plt.title('График динамики посетителей по дням для каждой группы')\n",
    "plt.xlabel('Дата')\n",
    "plt.ylabel('Количество посетителей')\n",
    "plt.legend();"
   ]
  },
  {
   "cell_type": "code",
   "execution_count": 120,
   "metadata": {},
   "outputs": [
    {
     "data": {
      "text/html": [
       "<div>\n",
       "<style scoped>\n",
       "    .dataframe tbody tr th:only-of-type {\n",
       "        vertical-align: middle;\n",
       "    }\n",
       "\n",
       "    .dataframe tbody tr th {\n",
       "        vertical-align: top;\n",
       "    }\n",
       "\n",
       "    .dataframe thead th {\n",
       "        text-align: right;\n",
       "    }\n",
       "</style>\n",
       "<table border=\"1\" class=\"dataframe\">\n",
       "  <thead>\n",
       "    <tr style=\"text-align: right;\">\n",
       "      <th></th>\n",
       "      <th>date</th>\n",
       "      <th>group</th>\n",
       "      <th>visitors</th>\n",
       "    </tr>\n",
       "  </thead>\n",
       "  <tbody>\n",
       "    <tr>\n",
       "      <th>0</th>\n",
       "      <td>2019-08-01</td>\n",
       "      <td>A</td>\n",
       "      <td>719</td>\n",
       "    </tr>\n",
       "    <tr>\n",
       "      <th>1</th>\n",
       "      <td>2019-08-01</td>\n",
       "      <td>B</td>\n",
       "      <td>713</td>\n",
       "    </tr>\n",
       "    <tr>\n",
       "      <th>2</th>\n",
       "      <td>2019-08-02</td>\n",
       "      <td>A</td>\n",
       "      <td>619</td>\n",
       "    </tr>\n",
       "    <tr>\n",
       "      <th>3</th>\n",
       "      <td>2019-08-02</td>\n",
       "      <td>B</td>\n",
       "      <td>581</td>\n",
       "    </tr>\n",
       "    <tr>\n",
       "      <th>4</th>\n",
       "      <td>2019-08-03</td>\n",
       "      <td>A</td>\n",
       "      <td>507</td>\n",
       "    </tr>\n",
       "    <tr>\n",
       "      <th>5</th>\n",
       "      <td>2019-08-03</td>\n",
       "      <td>B</td>\n",
       "      <td>509</td>\n",
       "    </tr>\n",
       "    <tr>\n",
       "      <th>6</th>\n",
       "      <td>2019-08-04</td>\n",
       "      <td>A</td>\n",
       "      <td>717</td>\n",
       "    </tr>\n",
       "    <tr>\n",
       "      <th>7</th>\n",
       "      <td>2019-08-04</td>\n",
       "      <td>B</td>\n",
       "      <td>770</td>\n",
       "    </tr>\n",
       "    <tr>\n",
       "      <th>8</th>\n",
       "      <td>2019-08-05</td>\n",
       "      <td>A</td>\n",
       "      <td>756</td>\n",
       "    </tr>\n",
       "    <tr>\n",
       "      <th>9</th>\n",
       "      <td>2019-08-05</td>\n",
       "      <td>B</td>\n",
       "      <td>707</td>\n",
       "    </tr>\n",
       "  </tbody>\n",
       "</table>\n",
       "</div>"
      ],
      "text/plain": [
       "        date group  visitors\n",
       "0 2019-08-01     A       719\n",
       "1 2019-08-01     B       713\n",
       "2 2019-08-02     A       619\n",
       "3 2019-08-02     B       581\n",
       "4 2019-08-03     A       507\n",
       "5 2019-08-03     B       509\n",
       "6 2019-08-04     A       717\n",
       "7 2019-08-04     B       770\n",
       "8 2019-08-05     A       756\n",
       "9 2019-08-05     B       707"
      ]
     },
     "metadata": {},
     "output_type": "display_data"
    }
   ],
   "source": [
    "display(daily_visitors.head(10))"
   ]
  },
  {
   "cell_type": "markdown",
   "metadata": {},
   "source": [
    "###  Вывод по разделу"
   ]
  },
  {
   "cell_type": "markdown",
   "metadata": {},
   "source": [
    "После знакомства с полученым датасетом, были произведены необходимые операции для проведения последующего анализа. Данные были проанализированы на наличие пропусков и дубликатов - их нет. Были изменены типы данных в столбцах с датами и временем. Названия столбцов были приведены к единому стандарту - строчное написание в \"змеином\" регистре. \n",
    "\n",
    "В результате мы имеем чистые и подготовленные к анализу данные. \n",
    "\n",
    "Участники теста разбиты на 2 группы. В группу А попали - 46.06% и в группу B - 53.94% пользователей. В целом, распределение равномерное. Дата начала проведения теста - 01.08.2019, дата промежуточного итога 31.08.2019. Количество посетителей в обеих группах равноценно и не повлияет на результаты теста."
   ]
  },
  {
   "cell_type": "markdown",
   "metadata": {},
   "source": [
    "## Приоритизация гипотез"
   ]
  },
  {
   "cell_type": "markdown",
   "metadata": {},
   "source": [
    "В нашем распоряжении подготовленный отделом маркетинга файл с 9 гипотезами, для которых оценены значения Reach, Impact, Confidence и Efforts. Применим к этим гипотезам фреймворки ICE и RICE.\n",
    "\n",
    "Фреймворк ICE - (impact х confidence) /efforts («(влияние * уверенность) / усилия »), учитывает перемноженные  \n",
    "Impact — насколько сильно изменение повлияет на пользователей, их опыт и удовлетворение от продукта; на Confidence — насколько вы уверены, что это изменение повлияет на пользователей именно так; и разделенные на Efforts — сколько стоит протестировать эту гипотезу.\n",
    "\n",
    "Фреймворк RICE - добавляет в числитель Reach — скольких пользователей затронет изменение, которое вы хотите внести. Итого (reach х impact х confidence) / efforts"
   ]
  },
  {
   "cell_type": "code",
   "execution_count": 124,
   "metadata": {},
   "outputs": [],
   "source": [
    "#добавим пару стилистических украшений проекта. Увеличим ширину колонки для читабельности гипотез. А так же сократим отображение дробных частей числа до сотых, этого вполне достаточно для анализа показателей.\n",
    "pd.set_option(\"max_colwidth\", 400)\n",
    "pd.set_option(\"display.float_format\", \"{:.2f}\".format)"
   ]
  },
  {
   "cell_type": "code",
   "execution_count": 15,
   "metadata": {},
   "outputs": [
    {
     "data": {
      "text/html": [
       "<div>\n",
       "<style scoped>\n",
       "    .dataframe tbody tr th:only-of-type {\n",
       "        vertical-align: middle;\n",
       "    }\n",
       "\n",
       "    .dataframe tbody tr th {\n",
       "        vertical-align: top;\n",
       "    }\n",
       "\n",
       "    .dataframe thead th {\n",
       "        text-align: right;\n",
       "    }\n",
       "</style>\n",
       "<table border=\"1\" class=\"dataframe\">\n",
       "  <thead>\n",
       "    <tr style=\"text-align: right;\">\n",
       "      <th></th>\n",
       "      <th>hypothesis</th>\n",
       "      <th>ice</th>\n",
       "    </tr>\n",
       "  </thead>\n",
       "  <tbody>\n",
       "    <tr>\n",
       "      <th>8</th>\n",
       "      <td>Запустить акцию, дающую скидку на товар в день рождения</td>\n",
       "      <td>16.20</td>\n",
       "    </tr>\n",
       "    <tr>\n",
       "      <th>0</th>\n",
       "      <td>Добавить два новых канала привлечения трафика, что позволит привлекать на 30% больше пользователей</td>\n",
       "      <td>13.33</td>\n",
       "    </tr>\n",
       "    <tr>\n",
       "      <th>7</th>\n",
       "      <td>Добавить форму подписки на все основные страницы, чтобы собрать базу клиентов для email-рассылок</td>\n",
       "      <td>11.20</td>\n",
       "    </tr>\n",
       "    <tr>\n",
       "      <th>6</th>\n",
       "      <td>Показать на главной странице баннеры с актуальными акциями и распродажами, чтобы увеличить конверсию</td>\n",
       "      <td>8.00</td>\n",
       "    </tr>\n",
       "    <tr>\n",
       "      <th>2</th>\n",
       "      <td>Добавить блоки рекомендаций товаров на сайт интернет магазина, чтобы повысить конверсию и средний чек заказа</td>\n",
       "      <td>7.00</td>\n",
       "    </tr>\n",
       "    <tr>\n",
       "      <th>1</th>\n",
       "      <td>Запустить собственную службу доставки, что сократит срок доставки заказов</td>\n",
       "      <td>2.00</td>\n",
       "    </tr>\n",
       "    <tr>\n",
       "      <th>5</th>\n",
       "      <td>Добавить страницу отзывов клиентов о магазине, что позволит увеличить количество заказов</td>\n",
       "      <td>1.33</td>\n",
       "    </tr>\n",
       "    <tr>\n",
       "      <th>3</th>\n",
       "      <td>Изменить структура категорий, что увеличит конверсию, т.к. пользователи быстрее найдут нужный товар</td>\n",
       "      <td>1.12</td>\n",
       "    </tr>\n",
       "    <tr>\n",
       "      <th>4</th>\n",
       "      <td>Изменить цвет фона главной страницы, чтобы увеличить вовлеченность пользователей</td>\n",
       "      <td>1.00</td>\n",
       "    </tr>\n",
       "  </tbody>\n",
       "</table>\n",
       "</div>"
      ],
      "text/plain": [
       "                                                                                                     hypothesis  \\\n",
       "8                                                       Запустить акцию, дающую скидку на товар в день рождения   \n",
       "0            Добавить два новых канала привлечения трафика, что позволит привлекать на 30% больше пользователей   \n",
       "7              Добавить форму подписки на все основные страницы, чтобы собрать базу клиентов для email-рассылок   \n",
       "6          Показать на главной странице баннеры с актуальными акциями и распродажами, чтобы увеличить конверсию   \n",
       "2  Добавить блоки рекомендаций товаров на сайт интернет магазина, чтобы повысить конверсию и средний чек заказа   \n",
       "1                                     Запустить собственную службу доставки, что сократит срок доставки заказов   \n",
       "5                      Добавить страницу отзывов клиентов о магазине, что позволит увеличить количество заказов   \n",
       "3           Изменить структура категорий, что увеличит конверсию, т.к. пользователи быстрее найдут нужный товар   \n",
       "4                              Изменить цвет фона главной страницы, чтобы увеличить вовлеченность пользователей   \n",
       "\n",
       "    ice  \n",
       "8 16.20  \n",
       "0 13.33  \n",
       "7 11.20  \n",
       "6  8.00  \n",
       "2  7.00  \n",
       "1  2.00  \n",
       "5  1.33  \n",
       "3  1.12  \n",
       "4  1.00  "
      ]
     },
     "metadata": {},
     "output_type": "display_data"
    }
   ],
   "source": [
    "# применение фреймворка ICE\n",
    "hypothesis['ice'] = (hypothesis.impact * hypothesis.confidence) / hypothesis.efforts\n",
    "display(hypothesis[['hypothesis', 'ice']].sort_values(by='ice', ascending=False))"
   ]
  },
  {
   "cell_type": "code",
   "execution_count": 16,
   "metadata": {},
   "outputs": [
    {
     "data": {
      "text/html": [
       "<div>\n",
       "<style scoped>\n",
       "    .dataframe tbody tr th:only-of-type {\n",
       "        vertical-align: middle;\n",
       "    }\n",
       "\n",
       "    .dataframe tbody tr th {\n",
       "        vertical-align: top;\n",
       "    }\n",
       "\n",
       "    .dataframe thead th {\n",
       "        text-align: right;\n",
       "    }\n",
       "</style>\n",
       "<table border=\"1\" class=\"dataframe\">\n",
       "  <thead>\n",
       "    <tr style=\"text-align: right;\">\n",
       "      <th></th>\n",
       "      <th>hypothesis</th>\n",
       "      <th>rice</th>\n",
       "    </tr>\n",
       "  </thead>\n",
       "  <tbody>\n",
       "    <tr>\n",
       "      <th>7</th>\n",
       "      <td>Добавить форму подписки на все основные страницы, чтобы собрать базу клиентов для email-рассылок</td>\n",
       "      <td>112.00</td>\n",
       "    </tr>\n",
       "    <tr>\n",
       "      <th>2</th>\n",
       "      <td>Добавить блоки рекомендаций товаров на сайт интернет магазина, чтобы повысить конверсию и средний чек заказа</td>\n",
       "      <td>56.00</td>\n",
       "    </tr>\n",
       "    <tr>\n",
       "      <th>0</th>\n",
       "      <td>Добавить два новых канала привлечения трафика, что позволит привлекать на 30% больше пользователей</td>\n",
       "      <td>40.00</td>\n",
       "    </tr>\n",
       "    <tr>\n",
       "      <th>6</th>\n",
       "      <td>Показать на главной странице баннеры с актуальными акциями и распродажами, чтобы увеличить конверсию</td>\n",
       "      <td>40.00</td>\n",
       "    </tr>\n",
       "    <tr>\n",
       "      <th>8</th>\n",
       "      <td>Запустить акцию, дающую скидку на товар в день рождения</td>\n",
       "      <td>16.20</td>\n",
       "    </tr>\n",
       "    <tr>\n",
       "      <th>3</th>\n",
       "      <td>Изменить структура категорий, что увеличит конверсию, т.к. пользователи быстрее найдут нужный товар</td>\n",
       "      <td>9.00</td>\n",
       "    </tr>\n",
       "    <tr>\n",
       "      <th>1</th>\n",
       "      <td>Запустить собственную службу доставки, что сократит срок доставки заказов</td>\n",
       "      <td>4.00</td>\n",
       "    </tr>\n",
       "    <tr>\n",
       "      <th>5</th>\n",
       "      <td>Добавить страницу отзывов клиентов о магазине, что позволит увеличить количество заказов</td>\n",
       "      <td>4.00</td>\n",
       "    </tr>\n",
       "    <tr>\n",
       "      <th>4</th>\n",
       "      <td>Изменить цвет фона главной страницы, чтобы увеличить вовлеченность пользователей</td>\n",
       "      <td>3.00</td>\n",
       "    </tr>\n",
       "  </tbody>\n",
       "</table>\n",
       "</div>"
      ],
      "text/plain": [
       "                                                                                                     hypothesis  \\\n",
       "7              Добавить форму подписки на все основные страницы, чтобы собрать базу клиентов для email-рассылок   \n",
       "2  Добавить блоки рекомендаций товаров на сайт интернет магазина, чтобы повысить конверсию и средний чек заказа   \n",
       "0            Добавить два новых канала привлечения трафика, что позволит привлекать на 30% больше пользователей   \n",
       "6          Показать на главной странице баннеры с актуальными акциями и распродажами, чтобы увеличить конверсию   \n",
       "8                                                       Запустить акцию, дающую скидку на товар в день рождения   \n",
       "3           Изменить структура категорий, что увеличит конверсию, т.к. пользователи быстрее найдут нужный товар   \n",
       "1                                     Запустить собственную службу доставки, что сократит срок доставки заказов   \n",
       "5                      Добавить страницу отзывов клиентов о магазине, что позволит увеличить количество заказов   \n",
       "4                              Изменить цвет фона главной страницы, чтобы увеличить вовлеченность пользователей   \n",
       "\n",
       "    rice  \n",
       "7 112.00  \n",
       "2  56.00  \n",
       "0  40.00  \n",
       "6  40.00  \n",
       "8  16.20  \n",
       "3   9.00  \n",
       "1   4.00  \n",
       "5   4.00  \n",
       "4   3.00  "
      ]
     },
     "metadata": {},
     "output_type": "display_data"
    }
   ],
   "source": [
    "# применение фреймворка RICE\n",
    "hypothesis['rice'] = (hypothesis.reach * hypothesis.impact * hypothesis.confidence) / hypothesis.efforts\n",
    "display(hypothesis[['hypothesis', 'rice']].sort_values(by='rice', ascending=False))"
   ]
  },
  {
   "cell_type": "code",
   "execution_count": 17,
   "metadata": {},
   "outputs": [
    {
     "data": {
      "text/html": [
       "<div>\n",
       "<style scoped>\n",
       "    .dataframe tbody tr th:only-of-type {\n",
       "        vertical-align: middle;\n",
       "    }\n",
       "\n",
       "    .dataframe tbody tr th {\n",
       "        vertical-align: top;\n",
       "    }\n",
       "\n",
       "    .dataframe thead th {\n",
       "        text-align: right;\n",
       "    }\n",
       "</style>\n",
       "<table border=\"1\" class=\"dataframe\">\n",
       "  <thead>\n",
       "    <tr style=\"text-align: right;\">\n",
       "      <th></th>\n",
       "      <th>hypothesis</th>\n",
       "      <th>reach</th>\n",
       "      <th>impact</th>\n",
       "      <th>confidence</th>\n",
       "      <th>efforts</th>\n",
       "      <th>ice</th>\n",
       "      <th>rice</th>\n",
       "    </tr>\n",
       "  </thead>\n",
       "  <tbody>\n",
       "    <tr>\n",
       "      <th>0</th>\n",
       "      <td>Добавить два новых канала привлечения трафика, что позволит привлекать на 30% больше пользователей</td>\n",
       "      <td>3</td>\n",
       "      <td>10</td>\n",
       "      <td>8</td>\n",
       "      <td>6</td>\n",
       "      <td>13.33</td>\n",
       "      <td>40.00</td>\n",
       "    </tr>\n",
       "    <tr>\n",
       "      <th>1</th>\n",
       "      <td>Запустить собственную службу доставки, что сократит срок доставки заказов</td>\n",
       "      <td>2</td>\n",
       "      <td>5</td>\n",
       "      <td>4</td>\n",
       "      <td>10</td>\n",
       "      <td>2.00</td>\n",
       "      <td>4.00</td>\n",
       "    </tr>\n",
       "    <tr>\n",
       "      <th>2</th>\n",
       "      <td>Добавить блоки рекомендаций товаров на сайт интернет магазина, чтобы повысить конверсию и средний чек заказа</td>\n",
       "      <td>8</td>\n",
       "      <td>3</td>\n",
       "      <td>7</td>\n",
       "      <td>3</td>\n",
       "      <td>7.00</td>\n",
       "      <td>56.00</td>\n",
       "    </tr>\n",
       "    <tr>\n",
       "      <th>3</th>\n",
       "      <td>Изменить структура категорий, что увеличит конверсию, т.к. пользователи быстрее найдут нужный товар</td>\n",
       "      <td>8</td>\n",
       "      <td>3</td>\n",
       "      <td>3</td>\n",
       "      <td>8</td>\n",
       "      <td>1.12</td>\n",
       "      <td>9.00</td>\n",
       "    </tr>\n",
       "    <tr>\n",
       "      <th>4</th>\n",
       "      <td>Изменить цвет фона главной страницы, чтобы увеличить вовлеченность пользователей</td>\n",
       "      <td>3</td>\n",
       "      <td>1</td>\n",
       "      <td>1</td>\n",
       "      <td>1</td>\n",
       "      <td>1.00</td>\n",
       "      <td>3.00</td>\n",
       "    </tr>\n",
       "    <tr>\n",
       "      <th>5</th>\n",
       "      <td>Добавить страницу отзывов клиентов о магазине, что позволит увеличить количество заказов</td>\n",
       "      <td>3</td>\n",
       "      <td>2</td>\n",
       "      <td>2</td>\n",
       "      <td>3</td>\n",
       "      <td>1.33</td>\n",
       "      <td>4.00</td>\n",
       "    </tr>\n",
       "    <tr>\n",
       "      <th>6</th>\n",
       "      <td>Показать на главной странице баннеры с актуальными акциями и распродажами, чтобы увеличить конверсию</td>\n",
       "      <td>5</td>\n",
       "      <td>3</td>\n",
       "      <td>8</td>\n",
       "      <td>3</td>\n",
       "      <td>8.00</td>\n",
       "      <td>40.00</td>\n",
       "    </tr>\n",
       "    <tr>\n",
       "      <th>7</th>\n",
       "      <td>Добавить форму подписки на все основные страницы, чтобы собрать базу клиентов для email-рассылок</td>\n",
       "      <td>10</td>\n",
       "      <td>7</td>\n",
       "      <td>8</td>\n",
       "      <td>5</td>\n",
       "      <td>11.20</td>\n",
       "      <td>112.00</td>\n",
       "    </tr>\n",
       "    <tr>\n",
       "      <th>8</th>\n",
       "      <td>Запустить акцию, дающую скидку на товар в день рождения</td>\n",
       "      <td>1</td>\n",
       "      <td>9</td>\n",
       "      <td>9</td>\n",
       "      <td>5</td>\n",
       "      <td>16.20</td>\n",
       "      <td>16.20</td>\n",
       "    </tr>\n",
       "  </tbody>\n",
       "</table>\n",
       "</div>"
      ],
      "text/plain": [
       "                                                                                                     hypothesis  \\\n",
       "0            Добавить два новых канала привлечения трафика, что позволит привлекать на 30% больше пользователей   \n",
       "1                                     Запустить собственную службу доставки, что сократит срок доставки заказов   \n",
       "2  Добавить блоки рекомендаций товаров на сайт интернет магазина, чтобы повысить конверсию и средний чек заказа   \n",
       "3           Изменить структура категорий, что увеличит конверсию, т.к. пользователи быстрее найдут нужный товар   \n",
       "4                              Изменить цвет фона главной страницы, чтобы увеличить вовлеченность пользователей   \n",
       "5                      Добавить страницу отзывов клиентов о магазине, что позволит увеличить количество заказов   \n",
       "6          Показать на главной странице баннеры с актуальными акциями и распродажами, чтобы увеличить конверсию   \n",
       "7              Добавить форму подписки на все основные страницы, чтобы собрать базу клиентов для email-рассылок   \n",
       "8                                                       Запустить акцию, дающую скидку на товар в день рождения   \n",
       "\n",
       "   reach  impact  confidence  efforts   ice   rice  \n",
       "0      3      10           8        6 13.33  40.00  \n",
       "1      2       5           4       10  2.00   4.00  \n",
       "2      8       3           7        3  7.00  56.00  \n",
       "3      8       3           3        8  1.12   9.00  \n",
       "4      3       1           1        1  1.00   3.00  \n",
       "5      3       2           2        3  1.33   4.00  \n",
       "6      5       3           8        3  8.00  40.00  \n",
       "7     10       7           8        5 11.20 112.00  \n",
       "8      1       9           9        5 16.20  16.20  "
      ]
     },
     "metadata": {},
     "output_type": "display_data"
    }
   ],
   "source": [
    "display(hypothesis)"
   ]
  },
  {
   "cell_type": "markdown",
   "metadata": {},
   "source": [
    "Пятерка приоритетных гипотез по методу ICE:\n",
    "* 8 - Запустить акцию, дающую скидку на товар в день рождения\n",
    "* 0\t- Добавить два новых канала привлечения трафика, что позволит привлекать на 30% больше пользователей\n",
    "* 7 - Добавить форму подписки на все основные страницы, чтобы собрать базу клиентов для email-рассылок\n",
    "* 6 - Показать на главной странице баннеры с актуальными акциями и распродажами, чтобы увеличить конверсию\t\n",
    "* 2 - Добавить блоки рекомендаций товаров на сайт интернет магазина, чтобы повысить конверсию и средний чек заказа\n",
    "\n",
    "Пятерка приоритетных гипотез по методу RICE:\n",
    "* 7 - Добавить форму подписки на все основные страницы, чтобы собрать базу клиентов для email-рассылок\n",
    "* 2 - Добавить блоки рекомендаций товаров на сайт интернет магазина, чтобы повысить конверсию и средний чек заказа\n",
    "* 0\t- Добавить два новых канала привлечения трафика, что позволит привлекать на 30% больше пользователей\n",
    "* 6 - Показать на главной странице баннеры с актуальными акциями и распродажами, чтобы увеличить конверсию\n",
    "* 8 - Запустить акцию, дающую скидку на товар в день рождения"
   ]
  },
  {
   "cell_type": "markdown",
   "metadata": {},
   "source": [
    "Как видно, топовые гипотезы не меняются от выбранного метода приоритизации, но существенно менятся их позиция. Например, занявшее 1 место по результату метода ICE гипотеза с индесом - 8, замыкает пятерку гипотез отобранных методом RICE. Такую разницу можно объяснить различием в параметре Reach - показывающем, скольких пользователей коснется предлагаемое изменение. Соотвтетсвенно при выборе гипотез для тестирования важно учитывать этот параметр. На наш взгляд, дальнейшего изучения заслуживают гипотезы 7 - Добавить форму подписки на все основные страницы, чтобы собрать базу клиентов для email-рассылок и 2 - Добавить блоки рекомендаций товаров на сайт интернет магазина, чтобы повысить конверсию и средний чек заказа. Поскольку имеют потенциальные возможности охватить большое количество пользователей магазина."
   ]
  },
  {
   "cell_type": "markdown",
   "metadata": {},
   "source": [
    "## Анализ A/B-теста"
   ]
  },
  {
   "cell_type": "markdown",
   "metadata": {},
   "source": [
    "Мы провели A/B-тест и получили результаты, которые описаны в датафреймах orders и visitors. Проанализируем полученные результаты и начнем с проверки есть ли пользователи, попавшие в обе группы тестирования."
   ]
  },
  {
   "cell_type": "code",
   "execution_count": 18,
   "metadata": {},
   "outputs": [
    {
     "data": {
      "text/plain": [
       "58"
      ]
     },
     "execution_count": 18,
     "metadata": {},
     "output_type": "execute_result"
    }
   ],
   "source": [
    "duplicated_users = np.intersect1d(orders.query('group == \"A\"')['visitor_id'].unique(), orders.query('group == \"B\"')['visitor_id'].unique())\n",
    "duplicated_users.size"
   ]
  },
  {
   "cell_type": "markdown",
   "metadata": {},
   "source": [
    "Мы обнаружили 58 пользователей попавших в обе группы, что на наш взгляд может внести искажения в результаты теста, поэтому считаем целесообразным исключить таких пользователей из тестирования."
   ]
  },
  {
   "cell_type": "code",
   "execution_count": 19,
   "metadata": {},
   "outputs": [],
   "source": [
    "orders = orders[~orders['visitor_id'].isin(duplicated_users)]"
   ]
  },
  {
   "cell_type": "markdown",
   "metadata": {},
   "source": [
    "### График кумулятивной выручки по группам"
   ]
  },
  {
   "cell_type": "code",
   "execution_count": 20,
   "metadata": {},
   "outputs": [
    {
     "data": {
      "text/html": [
       "<div>\n",
       "<style scoped>\n",
       "    .dataframe tbody tr th:only-of-type {\n",
       "        vertical-align: middle;\n",
       "    }\n",
       "\n",
       "    .dataframe tbody tr th {\n",
       "        vertical-align: top;\n",
       "    }\n",
       "\n",
       "    .dataframe thead th {\n",
       "        text-align: right;\n",
       "    }\n",
       "</style>\n",
       "<table border=\"1\" class=\"dataframe\">\n",
       "  <thead>\n",
       "    <tr style=\"text-align: right;\">\n",
       "      <th></th>\n",
       "      <th>date</th>\n",
       "      <th>group</th>\n",
       "      <th>orders</th>\n",
       "      <th>buyers</th>\n",
       "      <th>revenue</th>\n",
       "      <th>visitors</th>\n",
       "    </tr>\n",
       "  </thead>\n",
       "  <tbody>\n",
       "    <tr>\n",
       "      <th>0</th>\n",
       "      <td>2019-08-01</td>\n",
       "      <td>A</td>\n",
       "      <td>23</td>\n",
       "      <td>19</td>\n",
       "      <td>142779</td>\n",
       "      <td>719</td>\n",
       "    </tr>\n",
       "    <tr>\n",
       "      <th>1</th>\n",
       "      <td>2019-08-01</td>\n",
       "      <td>B</td>\n",
       "      <td>17</td>\n",
       "      <td>17</td>\n",
       "      <td>59758</td>\n",
       "      <td>713</td>\n",
       "    </tr>\n",
       "    <tr>\n",
       "      <th>2</th>\n",
       "      <td>2019-08-02</td>\n",
       "      <td>A</td>\n",
       "      <td>42</td>\n",
       "      <td>36</td>\n",
       "      <td>234381</td>\n",
       "      <td>1338</td>\n",
       "    </tr>\n",
       "    <tr>\n",
       "      <th>3</th>\n",
       "      <td>2019-08-02</td>\n",
       "      <td>B</td>\n",
       "      <td>40</td>\n",
       "      <td>39</td>\n",
       "      <td>221801</td>\n",
       "      <td>1294</td>\n",
       "    </tr>\n",
       "    <tr>\n",
       "      <th>4</th>\n",
       "      <td>2019-08-03</td>\n",
       "      <td>A</td>\n",
       "      <td>66</td>\n",
       "      <td>60</td>\n",
       "      <td>346854</td>\n",
       "      <td>1845</td>\n",
       "    </tr>\n",
       "    <tr>\n",
       "      <th>5</th>\n",
       "      <td>2019-08-03</td>\n",
       "      <td>B</td>\n",
       "      <td>54</td>\n",
       "      <td>53</td>\n",
       "      <td>288850</td>\n",
       "      <td>1803</td>\n",
       "    </tr>\n",
       "  </tbody>\n",
       "</table>\n",
       "</div>"
      ],
      "text/plain": [
       "        date group  orders  buyers  revenue  visitors\n",
       "0 2019-08-01     A      23      19   142779       719\n",
       "1 2019-08-01     B      17      17    59758       713\n",
       "2 2019-08-02     A      42      36   234381      1338\n",
       "3 2019-08-02     B      40      39   221801      1294\n",
       "4 2019-08-03     A      66      60   346854      1845\n",
       "5 2019-08-03     B      54      53   288850      1803"
      ]
     },
     "execution_count": 20,
     "metadata": {},
     "output_type": "execute_result"
    }
   ],
   "source": [
    "# создаем массив уникальных пар значений дат и групп теста\n",
    "datesGroups = orders[['date','group']].drop_duplicates() \n",
    "\n",
    "# получаем агрегированные кумулятивные по дням данные о заказах \n",
    "ordersAggregated = datesGroups.apply(lambda x: orders[np.logical_and(orders['date'] <= x['date'], orders['group'] == x['group'])]\\\n",
    "                                    .agg({'date' : 'max', \n",
    "                                          'group' : 'max', \n",
    "                                          'transaction_id' : 'nunique', \n",
    "                                          'visitor_id' : 'nunique', \n",
    "                                          'revenue' : 'sum'}), axis=1).sort_values(by=['date','group'])\n",
    "\n",
    "# получаем агрегированные кумулятивные по дням данные о посетителях интернет-магазина \n",
    "visitorsAggregated = datesGroups.apply(lambda x: visitors[np.logical_and(visitors['date'] <= x['date'], visitors['group'] == x['group'])]\\\n",
    "                                       .agg({'date' : 'max', \n",
    "                                             'group' : 'max', \n",
    "                                             'visitors' : 'sum'}), axis=1).sort_values(by=['date','group'])\n",
    "\n",
    "# объединяем кумулятивные данные в одной таблице и присваиваем ее столбцам понятные названия\n",
    "cumulativeData = ordersAggregated.merge(visitorsAggregated, left_on=['date', 'group'], right_on=['date', 'group'])\n",
    "cumulativeData.columns = ['date', 'group', 'orders', 'buyers', 'revenue', 'visitors']\n",
    "\n",
    "cumulativeData.head(6)"
   ]
  },
  {
   "cell_type": "code",
   "execution_count": 131,
   "metadata": {},
   "outputs": [
    {
     "name": "stdout",
     "output_type": "stream",
     "text": [
      "Дата начала тестирования - 2019-08-01 00:00:00\n",
      "Дата окончания теста - 2019-08-31 00:00:00\n"
     ]
    }
   ],
   "source": [
    "#проверка корректности создания датафрейма, определение дат начала и окончания теста\n",
    "print('Дата начала тестирования -', cumulativeData['date'].min())\n",
    "print('Дата окончания теста -', cumulativeData['date'].max())"
   ]
  },
  {
   "cell_type": "markdown",
   "metadata": {},
   "source": [
    "Даты в созданном датафрейме совпадают с датами во входных исходных данных теста."
   ]
  },
  {
   "cell_type": "code",
   "execution_count": 21,
   "metadata": {},
   "outputs": [
    {
     "data": {
      "image/png": "[encoded data removed]",
      "text/plain": [
       "<Figure size 1080x504 with 1 Axes>"
      ]
     },
     "metadata": {
      "needs_background": "light"
     },
     "output_type": "display_data"
    }
   ],
   "source": [
    "# датафрейм с кумулятивным количеством заказов и кумулятивной выручкой по дням в группе А\n",
    "cumulativeRevenueA = cumulativeData[cumulativeData['group']=='A'][['date','revenue', 'orders']]\n",
    "\n",
    "# датафрейм с кумулятивным количеством заказов и кумулятивной выручкой по дням в группе B\n",
    "cumulativeRevenueB = cumulativeData[cumulativeData['group']=='B'][['date','revenue', 'orders']]\n",
    "\n",
    "plt.figure(figsize=(15,7))\n",
    "# Строим график выручки группы А\n",
    "plt.plot(cumulativeRevenueA['date'], cumulativeRevenueA['revenue'], label='A')\n",
    "\n",
    "# Строим график выручки группы B\n",
    "plt.plot(cumulativeRevenueB['date'], cumulativeRevenueB['revenue'], label='B')\n",
    "\n",
    "plt.grid()\n",
    "plt.title('График кумулятивной выручки по группам')\n",
    "plt.xlabel('Дата')\n",
    "plt.ylabel('Выручка')\n",
    "plt.legend();"
   ]
  },
  {
   "cell_type": "markdown",
   "metadata": {},
   "source": [
    "Выручка стабильно растет в обеих группах. Группа B вырывается вперед с 5 августа. 19 августа происходит резкий скачок в выручке, что может быть связано либо с резким ростом числа заказов в этот день, либо с крайне высоким чеком. Проверим оба варианта. "
   ]
  },
  {
   "cell_type": "code",
   "execution_count": 22,
   "metadata": {},
   "outputs": [
    {
     "data": {
      "text/html": [
       "<div>\n",
       "<style scoped>\n",
       "    .dataframe tbody tr th:only-of-type {\n",
       "        vertical-align: middle;\n",
       "    }\n",
       "\n",
       "    .dataframe tbody tr th {\n",
       "        vertical-align: top;\n",
       "    }\n",
       "\n",
       "    .dataframe thead th {\n",
       "        text-align: right;\n",
       "    }\n",
       "</style>\n",
       "<table border=\"1\" class=\"dataframe\">\n",
       "  <thead>\n",
       "    <tr style=\"text-align: right;\">\n",
       "      <th></th>\n",
       "      <th>date</th>\n",
       "      <th>revenue</th>\n",
       "      <th>orders</th>\n",
       "    </tr>\n",
       "  </thead>\n",
       "  <tbody>\n",
       "    <tr>\n",
       "      <th>33</th>\n",
       "      <td>2019-08-17</td>\n",
       "      <td>2155542</td>\n",
       "      <td>320</td>\n",
       "    </tr>\n",
       "    <tr>\n",
       "      <th>35</th>\n",
       "      <td>2019-08-18</td>\n",
       "      <td>2190865</td>\n",
       "      <td>327</td>\n",
       "    </tr>\n",
       "    <tr>\n",
       "      <th>37</th>\n",
       "      <td>2019-08-19</td>\n",
       "      <td>3620785</td>\n",
       "      <td>348</td>\n",
       "    </tr>\n",
       "    <tr>\n",
       "      <th>39</th>\n",
       "      <td>2019-08-20</td>\n",
       "      <td>3768059</td>\n",
       "      <td>368</td>\n",
       "    </tr>\n",
       "    <tr>\n",
       "      <th>41</th>\n",
       "      <td>2019-08-21</td>\n",
       "      <td>3908406</td>\n",
       "      <td>380</td>\n",
       "    </tr>\n",
       "  </tbody>\n",
       "</table>\n",
       "</div>"
      ],
      "text/plain": [
       "         date  revenue  orders\n",
       "33 2019-08-17  2155542     320\n",
       "35 2019-08-18  2190865     327\n",
       "37 2019-08-19  3620785     348\n",
       "39 2019-08-20  3768059     368\n",
       "41 2019-08-21  3908406     380"
      ]
     },
     "execution_count": 22,
     "metadata": {},
     "output_type": "execute_result"
    }
   ],
   "source": [
    "#проанализируем количество заказов в районе \"выброса\"\n",
    "cumulativeRevenueB.query(' \"2019-08-17\" <= date <= \"2019-08-21\" ')"
   ]
  },
  {
   "cell_type": "code",
   "execution_count": 23,
   "metadata": {},
   "outputs": [
    {
     "data": {
      "text/html": [
       "<div>\n",
       "<style scoped>\n",
       "    .dataframe tbody tr th:only-of-type {\n",
       "        vertical-align: middle;\n",
       "    }\n",
       "\n",
       "    .dataframe tbody tr th {\n",
       "        vertical-align: top;\n",
       "    }\n",
       "\n",
       "    .dataframe thead th {\n",
       "        text-align: right;\n",
       "    }\n",
       "</style>\n",
       "<table border=\"1\" class=\"dataframe\">\n",
       "  <thead>\n",
       "    <tr style=\"text-align: right;\">\n",
       "      <th></th>\n",
       "      <th>transaction_id</th>\n",
       "      <th>visitor_id</th>\n",
       "      <th>date</th>\n",
       "      <th>revenue</th>\n",
       "      <th>group</th>\n",
       "    </tr>\n",
       "  </thead>\n",
       "  <tbody>\n",
       "    <tr>\n",
       "      <th>425</th>\n",
       "      <td>590470918</td>\n",
       "      <td>1920142716</td>\n",
       "      <td>2019-08-19</td>\n",
       "      <td>1294500</td>\n",
       "      <td>B</td>\n",
       "    </tr>\n",
       "    <tr>\n",
       "      <th>530</th>\n",
       "      <td>3970235543</td>\n",
       "      <td>2912540959</td>\n",
       "      <td>2019-08-19</td>\n",
       "      <td>43990</td>\n",
       "      <td>A</td>\n",
       "    </tr>\n",
       "    <tr>\n",
       "      <th>527</th>\n",
       "      <td>1570513684</td>\n",
       "      <td>2837914161</td>\n",
       "      <td>2019-08-19</td>\n",
       "      <td>33405</td>\n",
       "      <td>B</td>\n",
       "    </tr>\n",
       "    <tr>\n",
       "      <th>421</th>\n",
       "      <td>3765974140</td>\n",
       "      <td>1357170471</td>\n",
       "      <td>2019-08-19</td>\n",
       "      <td>31680</td>\n",
       "      <td>A</td>\n",
       "    </tr>\n",
       "    <tr>\n",
       "      <th>461</th>\n",
       "      <td>2683113224</td>\n",
       "      <td>154576532</td>\n",
       "      <td>2019-08-19</td>\n",
       "      <td>26550</td>\n",
       "      <td>B</td>\n",
       "    </tr>\n",
       "    <tr>\n",
       "      <th>368</th>\n",
       "      <td>3268879337</td>\n",
       "      <td>2536252163</td>\n",
       "      <td>2019-08-19</td>\n",
       "      <td>20026</td>\n",
       "      <td>B</td>\n",
       "    </tr>\n",
       "  </tbody>\n",
       "</table>\n",
       "</div>"
      ],
      "text/plain": [
       "     transaction_id  visitor_id       date  revenue group\n",
       "425       590470918  1920142716 2019-08-19  1294500     B\n",
       "530      3970235543  2912540959 2019-08-19    43990     A\n",
       "527      1570513684  2837914161 2019-08-19    33405     B\n",
       "421      3765974140  1357170471 2019-08-19    31680     A\n",
       "461      2683113224   154576532 2019-08-19    26550     B\n",
       "368      3268879337  2536252163 2019-08-19    20026     B"
      ]
     },
     "execution_count": 23,
     "metadata": {},
     "output_type": "execute_result"
    }
   ],
   "source": [
    "orders.query('date == \"2019-08-19\"').sort_values(by='revenue', ascending=False).head(6)"
   ]
  },
  {
   "cell_type": "markdown",
   "metadata": {},
   "source": [
    "Количество заказов растет стабильно, без выбросов. Проблема в огромном чеке от 19 августа, многократно превышающем средние значения покупок в тот день и вносящем существенные искажения в результаты теста. "
   ]
  },
  {
   "cell_type": "markdown",
   "metadata": {},
   "source": [
    "### График кумулятивного среднего чека по группам"
   ]
  },
  {
   "cell_type": "code",
   "execution_count": 24,
   "metadata": {},
   "outputs": [
    {
     "data": {
      "image/png": "[encoded data removed]",
      "text/plain": [
       "<Figure size 1080x504 with 1 Axes>"
      ]
     },
     "metadata": {
      "needs_background": "light"
     },
     "output_type": "display_data"
    }
   ],
   "source": [
    "plt.figure(figsize=(15,7))\n",
    "plt.plot(cumulativeRevenueA['date'], cumulativeRevenueA['revenue']/cumulativeRevenueA['orders'], label='A')\n",
    "plt.plot(cumulativeRevenueB['date'], cumulativeRevenueB['revenue']/cumulativeRevenueB['orders'], label='B')\n",
    "plt.grid()\n",
    "plt.title('График кумулятивного среднего чека по группам')\n",
    "plt.xlabel('Дата')\n",
    "plt.ylabel('Сумма среднего чека')\n",
    "plt.legend();"
   ]
  },
  {
   "cell_type": "markdown",
   "metadata": {},
   "source": [
    "Как мы выяснили в анализе предыдущего графика, 19 августа был произведен огромный разовый заказ, оказавший такое влияние на поведение и данной метрики. А в целом, после скачкообразного роста, средний чек группы B стабильно снижался. Средний чек группы A стабилизировался к середние месяца и в дальнейшем незначительно колеблется в районе отметки 7000, с небольшой тенденцией к росту в конце месяца."
   ]
  },
  {
   "cell_type": "markdown",
   "metadata": {},
   "source": [
    "### График относительного изменения кумулятивного среднего чека группы B к группе A"
   ]
  },
  {
   "cell_type": "code",
   "execution_count": 25,
   "metadata": {},
   "outputs": [
    {
     "data": {
      "image/png": "[encoded data removed]",
      "text/plain": [
       "<Figure size 1080x504 with 1 Axes>"
      ]
     },
     "metadata": {
      "needs_background": "light"
     },
     "output_type": "display_data"
    }
   ],
   "source": [
    "# собираем данные в одном датафрейме\n",
    "mergedCumulativeRevenue = cumulativeRevenueA.merge(cumulativeRevenueB, left_on='date', right_on='date', how='left', suffixes=['A', 'B'])\n",
    "\n",
    "# cтроим отношение средних чеков\n",
    "plt.figure(figsize=(15,7))\n",
    "plt.grid()\n",
    "plt.plot(mergedCumulativeRevenue['date'], (mergedCumulativeRevenue['revenueB']/mergedCumulativeRevenue['ordersB'])/(mergedCumulativeRevenue['revenueA']/mergedCumulativeRevenue['ordersA'])-1)\n",
    "plt.title('Относительное изменение кумулятивного среднего чека группы B к группе А')\n",
    "plt.xlabel('Дата')\n",
    "plt.ylabel('Изменение среденего чека')\n",
    "plt.axhline(y=0, color='black', linestyle='--');"
   ]
  },
  {
   "cell_type": "markdown",
   "metadata": {},
   "source": [
    "Очередной график подтверждает нашу находку о влиянии аномального заказа с индексом 425, на все результаты тестирования. Группа B была впереди по среднему чеку практически все время, но после скачка связанного с аномальным заказом средний чек постепенно снижался."
   ]
  },
  {
   "cell_type": "markdown",
   "metadata": {},
   "source": [
    "### График кумулятивного среднего количества заказов на посетителя по группам"
   ]
  },
  {
   "cell_type": "code",
   "execution_count": 26,
   "metadata": {},
   "outputs": [
    {
     "data": {
      "image/png": "[encoded data removed]",
      "text/plain": [
       "<Figure size 1080x504 with 1 Axes>"
      ]
     },
     "metadata": {
      "needs_background": "light"
     },
     "output_type": "display_data"
    }
   ],
   "source": [
    "cumulativeData['avg'] = cumulativeData['orders']/cumulativeData['visitors']\n",
    "\n",
    "# отделяем данные по группе A\n",
    "cumulativeDataA = cumulativeData[cumulativeData['group']=='A']\n",
    "\n",
    "# отделяем данные по группе B\n",
    "cumulativeDataB = cumulativeData[cumulativeData['group']=='B']\n",
    "\n",
    "# строим графики\n",
    "plt.figure(figsize=(15,7))\n",
    "plt.plot(cumulativeDataA['date'], cumulativeDataA['avg'], label='A')\n",
    "plt.plot(cumulativeDataB['date'], cumulativeDataB['avg'], label='B')\n",
    "plt.grid()\n",
    "plt.legend()\n",
    "plt.title('График кумулятивного среднего количества заказов на посетителя по группам')\n",
    "plt.xlabel('Дата')\n",
    "plt.ylabel('Среднее количество заказов на посетителя')\n",
    "# задаем масштаб осей\n",
    "plt.axis([dt.datetime(2019, 8, 1), dt.datetime(2019, 9, 1), 0.02, 0.037]);"
   ]
  },
  {
   "cell_type": "markdown",
   "metadata": {},
   "source": [
    "Среднее количество заказов на посетителя - стабильно лучше в группе B уже с 6 дня тестирования. Хотя на старте, группа А демонстировала неплохие показатели. Можно отметить, что с 10 дня обе группы более менее стабилизировались и держатся на одном уровне с незначительными колебаниями."
   ]
  },
  {
   "cell_type": "markdown",
   "metadata": {},
   "source": [
    "### График относительного изменения кумулятивного среднего количества заказов на посетителя группы B к группе A"
   ]
  },
  {
   "cell_type": "code",
   "execution_count": 27,
   "metadata": {},
   "outputs": [
    {
     "data": {
      "image/png": "[encoded data removed]",
      "text/plain": [
       "<Figure size 1080x504 with 1 Axes>"
      ]
     },
     "metadata": {
      "needs_background": "light"
     },
     "output_type": "display_data"
    }
   ],
   "source": [
    "mergedCumulativeAvg = cumulativeDataA[['date','avg']].merge(cumulativeDataB[['date','avg']], left_on='date', right_on='date', how='left', suffixes=['A', 'B'])\n",
    "plt.figure(figsize=(15,7))\n",
    "plt.plot(mergedCumulativeAvg['date'], mergedCumulativeAvg['avgB']/mergedCumulativeAvg['avgA']-1)\n",
    "plt.grid()\n",
    "plt.axhline(y=0, color='black', linestyle='--')\n",
    "plt.axis([dt.datetime(2019, 8, 1), dt.datetime(2019, 9, 1), -0.3, 0.3])\n",
    "plt.title('График относительного изменения кумулятивного среднего количества заказов на посетителя группы B к группе A')\n",
    "plt.xlabel('Дата')\n",
    "plt.ylabel('Относительне изменение кумулятивного среднего количества заказов');"
   ]
  },
  {
   "cell_type": "markdown",
   "metadata": {},
   "source": [
    "График относительного изменения кумулятивного среднего количества заказов на посетителя группы B к группе A демонстрирует установившееся после первой трети теста превосходство группы B над группой А по данному параметру. Разрыв стабилизировался и держится на стабильном уровне. "
   ]
  },
  {
   "cell_type": "markdown",
   "metadata": {},
   "source": [
    "### Точечный график количества заказов по пользователям"
   ]
  },
  {
   "cell_type": "code",
   "execution_count": null,
   "metadata": {},
   "outputs": [],
   "source": [
    "ordersByUsers = (\n",
    "    orders.groupby('visitor_id', as_index=False)\n",
    "    .agg({'transaction_id': 'nunique'})\n",
    ")\n",
    "ordersByUsers.columns = ['user_id', 'orders']\n",
    "\n",
    "ordersByUsers.sort_values(by='orders', ascending=False).head(10)"
   ]
  },
  {
   "cell_type": "code",
   "execution_count": 29,
   "metadata": {},
   "outputs": [
    {
     "data": {
      "image/png": "[encoded data removed]",
      "text/plain": [
       "<Figure size 1080x504 with 1 Axes>"
      ]
     },
     "metadata": {
      "needs_background": "light"
     },
     "output_type": "display_data"
    }
   ],
   "source": [
    "x_values = pd.Series(range(0, len(ordersByUsers)))\n",
    "\n",
    "plt.figure(figsize=(15,7))\n",
    "plt.grid()\n",
    "plt.title('График количества заказов по пользователям')\n",
    "plt.xlabel('Количество пользователей')\n",
    "plt.ylabel('Количество заказов')\n",
    "plt.scatter(x_values, ordersByUsers['orders']);"
   ]
  },
  {
   "cell_type": "markdown",
   "metadata": {},
   "source": [
    "Большинство пользователей сайта соврешают 1 заказ, небольшое количество пользователей совершило 2 и всего 7 человек совершило 3 заказа за месяц тестирования."
   ]
  },
  {
   "cell_type": "markdown",
   "metadata": {},
   "source": [
    "### 95-й и 99-й перцентили количества заказов на пользователя"
   ]
  },
  {
   "cell_type": "code",
   "execution_count": 30,
   "metadata": {},
   "outputs": [
    {
     "name": "stdout",
     "output_type": "stream",
     "text": [
      "[1. 2.]\n"
     ]
    }
   ],
   "source": [
    "print(np.percentile(ordersByUsers['orders'], [95, 99])) "
   ]
  },
  {
   "cell_type": "markdown",
   "metadata": {},
   "source": [
    "95% пользователей совершают 1 заказ и 99% пользователей совершают не более 2. \n",
    "Таким образом, пользователей совершающих более 2 покупок можно признать аномалией. \n",
    "\n",
    "Или просто редкими и ценными клиентами, с которыми стоит работать точечно в ручном режиме?"
   ]
  },
  {
   "cell_type": "markdown",
   "metadata": {},
   "source": [
    "### Точечный график стоимостей заказов"
   ]
  },
  {
   "cell_type": "code",
   "execution_count": 31,
   "metadata": {},
   "outputs": [
    {
     "data": {
      "image/png": "[encoded data removed]",
      "text/plain": [
       "<Figure size 1080x504 with 1 Axes>"
      ]
     },
     "metadata": {
      "needs_background": "light"
     },
     "output_type": "display_data"
    }
   ],
   "source": [
    "x_values = pd.Series(range(0,len(orders['revenue'])))\n",
    "plt.figure(figsize=(15,7))\n",
    "plt.title('График стоимостей заказов')\n",
    "plt.xlabel('Количество пользователей')\n",
    "plt.ylabel('Стоимость заказа')\n",
    "plt.grid()\n",
    "plt.scatter(x_values, orders['revenue']);"
   ]
  },
  {
   "cell_type": "markdown",
   "metadata": {},
   "source": [
    "Два выброса делают график малоинформативным. Определим 95 и 99 перцентили, для выявления пороговой суммы аномального заказа, после чего построим исправленный график."
   ]
  },
  {
   "cell_type": "markdown",
   "metadata": {},
   "source": [
    "### 95-й и 99-й перцентили стоимости заказов"
   ]
  },
  {
   "cell_type": "code",
   "execution_count": 32,
   "metadata": {},
   "outputs": [
    {
     "name": "stdout",
     "output_type": "stream",
     "text": [
      "[26785. 53904.]\n"
     ]
    }
   ],
   "source": [
    "print(np.percentile(orders['revenue'], [95, 99])) "
   ]
  },
  {
   "cell_type": "markdown",
   "metadata": {},
   "source": [
    "95% пользователей совершают заказы в пределах суммы 26785\n",
    "99% заказов укладываются в сумму 53904, данную сумму можно принять за границу аномальных заказов. "
   ]
  },
  {
   "cell_type": "code",
   "execution_count": 33,
   "metadata": {},
   "outputs": [
    {
     "data": {
      "image/png": "[encoded data removed]",
      "text/plain": [
       "<Figure size 1080x360 with 1 Axes>"
      ]
     },
     "metadata": {
      "needs_background": "light"
     },
     "output_type": "display_data"
    }
   ],
   "source": [
    "regular_orders = orders[orders['revenue']<=54000]['revenue']\n",
    "xr_values = pd.Series(range(0,len(regular_orders)))\n",
    "plt.figure(figsize=(15,5))\n",
    "plt.title('График стоимостей заказов')\n",
    "plt.xlabel('Количество пользователей')\n",
    "plt.ylabel('Стоимость заказа')\n",
    "plt.grid()\n",
    "plt.scatter(xr_values, regular_orders, alpha=0.4);"
   ]
  },
  {
   "cell_type": "markdown",
   "metadata": {},
   "source": [
    "### Cтатистическая значимость различий в среднем количестве заказов на посетителя между группами по «сырым» данным"
   ]
  },
  {
   "cell_type": "code",
   "execution_count": 34,
   "metadata": {},
   "outputs": [
    {
     "data": {
      "text/html": [
       "<div>\n",
       "<style scoped>\n",
       "    .dataframe tbody tr th:only-of-type {\n",
       "        vertical-align: middle;\n",
       "    }\n",
       "\n",
       "    .dataframe tbody tr th {\n",
       "        vertical-align: top;\n",
       "    }\n",
       "\n",
       "    .dataframe thead th {\n",
       "        text-align: right;\n",
       "    }\n",
       "</style>\n",
       "<table border=\"1\" class=\"dataframe\">\n",
       "  <thead>\n",
       "    <tr style=\"text-align: right;\">\n",
       "      <th></th>\n",
       "      <th>date</th>\n",
       "      <th>ordersPerDateA</th>\n",
       "      <th>revenuePerDateA</th>\n",
       "      <th>ordersPerDateB</th>\n",
       "      <th>revenuePerDateB</th>\n",
       "      <th>ordersCummulativeA</th>\n",
       "      <th>revenueCummulativeA</th>\n",
       "      <th>ordersCummulativeB</th>\n",
       "      <th>revenueCummulativeB</th>\n",
       "      <th>visitorsPerDateA</th>\n",
       "      <th>visitorsPerDateB</th>\n",
       "      <th>visitorsCummulativeA</th>\n",
       "      <th>visitorsCummulativeB</th>\n",
       "    </tr>\n",
       "  </thead>\n",
       "  <tbody>\n",
       "    <tr>\n",
       "      <th>0</th>\n",
       "      <td>2019-08-01</td>\n",
       "      <td>23</td>\n",
       "      <td>142779</td>\n",
       "      <td>17</td>\n",
       "      <td>59758</td>\n",
       "      <td>23</td>\n",
       "      <td>142779</td>\n",
       "      <td>17</td>\n",
       "      <td>59758</td>\n",
       "      <td>719</td>\n",
       "      <td>713</td>\n",
       "      <td>719</td>\n",
       "      <td>713</td>\n",
       "    </tr>\n",
       "    <tr>\n",
       "      <th>1</th>\n",
       "      <td>2019-08-02</td>\n",
       "      <td>19</td>\n",
       "      <td>91602</td>\n",
       "      <td>23</td>\n",
       "      <td>162043</td>\n",
       "      <td>42</td>\n",
       "      <td>234381</td>\n",
       "      <td>40</td>\n",
       "      <td>221801</td>\n",
       "      <td>619</td>\n",
       "      <td>581</td>\n",
       "      <td>1338</td>\n",
       "      <td>1294</td>\n",
       "    </tr>\n",
       "    <tr>\n",
       "      <th>2</th>\n",
       "      <td>2019-08-03</td>\n",
       "      <td>24</td>\n",
       "      <td>112473</td>\n",
       "      <td>14</td>\n",
       "      <td>67049</td>\n",
       "      <td>66</td>\n",
       "      <td>346854</td>\n",
       "      <td>54</td>\n",
       "      <td>288850</td>\n",
       "      <td>507</td>\n",
       "      <td>509</td>\n",
       "      <td>1845</td>\n",
       "      <td>1803</td>\n",
       "    </tr>\n",
       "    <tr>\n",
       "      <th>3</th>\n",
       "      <td>2019-08-04</td>\n",
       "      <td>11</td>\n",
       "      <td>41176</td>\n",
       "      <td>14</td>\n",
       "      <td>96890</td>\n",
       "      <td>77</td>\n",
       "      <td>388030</td>\n",
       "      <td>68</td>\n",
       "      <td>385740</td>\n",
       "      <td>717</td>\n",
       "      <td>770</td>\n",
       "      <td>2562</td>\n",
       "      <td>2573</td>\n",
       "    </tr>\n",
       "    <tr>\n",
       "      <th>4</th>\n",
       "      <td>2019-08-05</td>\n",
       "      <td>22</td>\n",
       "      <td>86383</td>\n",
       "      <td>21</td>\n",
       "      <td>89908</td>\n",
       "      <td>99</td>\n",
       "      <td>474413</td>\n",
       "      <td>89</td>\n",
       "      <td>475648</td>\n",
       "      <td>756</td>\n",
       "      <td>707</td>\n",
       "      <td>3318</td>\n",
       "      <td>3280</td>\n",
       "    </tr>\n",
       "  </tbody>\n",
       "</table>\n",
       "</div>"
      ],
      "text/plain": [
       "        date  ordersPerDateA  revenuePerDateA  ordersPerDateB  \\\n",
       "0 2019-08-01              23           142779              17   \n",
       "1 2019-08-02              19            91602              23   \n",
       "2 2019-08-03              24           112473              14   \n",
       "3 2019-08-04              11            41176              14   \n",
       "4 2019-08-05              22            86383              21   \n",
       "\n",
       "   revenuePerDateB  ordersCummulativeA  revenueCummulativeA  \\\n",
       "0            59758                  23               142779   \n",
       "1           162043                  42               234381   \n",
       "2            67049                  66               346854   \n",
       "3            96890                  77               388030   \n",
       "4            89908                  99               474413   \n",
       "\n",
       "   ordersCummulativeB  revenueCummulativeB  visitorsPerDateA  \\\n",
       "0                  17                59758               719   \n",
       "1                  40               221801               619   \n",
       "2                  54               288850               507   \n",
       "3                  68               385740               717   \n",
       "4                  89               475648               756   \n",
       "\n",
       "   visitorsPerDateB  visitorsCummulativeA  visitorsCummulativeB  \n",
       "0               713                   719                   713  \n",
       "1               581                  1338                  1294  \n",
       "2               509                  1845                  1803  \n",
       "3               770                  2562                  2573  \n",
       "4               707                  3318                  3280  "
      ]
     },
     "execution_count": 34,
     "metadata": {},
     "output_type": "execute_result"
    }
   ],
   "source": [
    "visitorsADaily = visitors[visitors['group'] == 'A'][['date', 'visitors']]\n",
    "visitorsADaily.columns = ['date', 'visitorsPerDateA']\n",
    "\n",
    "visitorsACummulative = visitorsADaily.apply(\n",
    "    lambda x: visitorsADaily[visitorsADaily['date'] <= x['date']].agg(\n",
    "        {'date': 'max', 'visitorsPerDateA': 'sum'}\n",
    "    ),\n",
    "    axis=1,\n",
    ")\n",
    "visitorsACummulative.columns = ['date', 'visitorsCummulativeA']\n",
    "\n",
    "visitorsBDaily = visitors[visitors['group'] == 'B'][['date', 'visitors']]\n",
    "visitorsBDaily.columns = ['date', 'visitorsPerDateB']\n",
    "\n",
    "visitorsBCummulative = visitorsBDaily.apply(\n",
    "    lambda x: visitorsBDaily[visitorsBDaily['date'] <= x['date']].agg(\n",
    "        {'date': 'max', 'visitorsPerDateB': 'sum'}\n",
    "    ),\n",
    "    axis=1,\n",
    ")\n",
    "visitorsBCummulative.columns = ['date', 'visitorsCummulativeB']\n",
    "\n",
    "ordersADaily = (\n",
    "    orders[orders['group'] == 'A'][['date', 'transaction_id', 'visitor_id', 'revenue']]\n",
    "    .groupby('date', as_index=False)\n",
    "    .agg({'transaction_id': pd.Series.nunique, 'revenue': 'sum'})\n",
    ")\n",
    "ordersADaily.columns = ['date', 'ordersPerDateA', 'revenuePerDateA']\n",
    "\n",
    "ordersACummulative = ordersADaily.apply(\n",
    "    lambda x: ordersADaily[ordersADaily['date'] <= x['date']].agg(\n",
    "        {'date': 'max', 'ordersPerDateA': 'sum', 'revenuePerDateA': 'sum'}\n",
    "    ),\n",
    "    axis=1,\n",
    ").sort_values(by=['date'])\n",
    "ordersACummulative.columns = [\n",
    "    'date',\n",
    "    'ordersCummulativeA',\n",
    "    'revenueCummulativeA',\n",
    "]\n",
    "\n",
    "ordersBDaily = (\n",
    "    orders[orders['group'] == 'B'][['date', 'transaction_id', 'visitor_id', 'revenue']]\n",
    "    .groupby('date', as_index=False)\n",
    "    .agg({'transaction_id': pd.Series.nunique, 'revenue': 'sum'})\n",
    ")\n",
    "ordersBDaily.columns = ['date', 'ordersPerDateB', 'revenuePerDateB']\n",
    "\n",
    "ordersBCummulative = ordersBDaily.apply(\n",
    "    lambda x: ordersBDaily[ordersBDaily['date'] <= x['date']].agg(\n",
    "        {'date': 'max', 'ordersPerDateB': 'sum', 'revenuePerDateB': 'sum'}\n",
    "    ),\n",
    "    axis=1,\n",
    ").sort_values(by=['date'])\n",
    "ordersBCummulative.columns = [\n",
    "    'date',\n",
    "    'ordersCummulativeB',\n",
    "    'revenueCummulativeB',\n",
    "]\n",
    "\n",
    "data = (\n",
    "    ordersADaily.merge(\n",
    "        ordersBDaily, left_on='date', right_on='date', how='left'\n",
    "    )\n",
    "    .merge(ordersACummulative, left_on='date', right_on='date', how='left')\n",
    "    .merge(ordersBCummulative, left_on='date', right_on='date', how='left')\n",
    "    .merge(visitorsADaily, left_on='date', right_on='date', how='left')\n",
    "    .merge(visitorsBDaily, left_on='date', right_on='date', how='left')\n",
    "    .merge(visitorsACummulative, left_on='date', right_on='date', how='left')\n",
    "    .merge(visitorsBCummulative, left_on='date', right_on='date', how='left')\n",
    ")\n",
    "\n",
    "data.head()"
   ]
  },
  {
   "cell_type": "code",
   "execution_count": 35,
   "metadata": {},
   "outputs": [],
   "source": [
    "ordersByUsersA = orders[orders['group']=='A'].groupby('visitor_id', as_index=False).agg({'transaction_id' : pd.Series.nunique})\n",
    "ordersByUsersA.columns = ['user_id', 'orders']\n",
    "\n",
    "ordersByUsersB = orders[orders['group']=='B'].groupby('visitor_id', as_index=False).agg({'transaction_id' : pd.Series.nunique})\n",
    "ordersByUsersB.columns = ['user_id', 'orders']"
   ]
  },
  {
   "cell_type": "code",
   "execution_count": 36,
   "metadata": {},
   "outputs": [],
   "source": [
    "sampleA = pd.concat([ordersByUsersA['orders'],pd.Series(0, index=np.arange(data['visitorsPerDateA'].sum() - len(ordersByUsersA['orders'])), name='orders')],axis=0)\n",
    "\n",
    "sampleB = pd.concat([ordersByUsersB['orders'],pd.Series(0, index=np.arange(data['visitorsPerDateB'].sum() - len(ordersByUsersB['orders'])), name='orders')],axis=0)"
   ]
  },
  {
   "cell_type": "markdown",
   "metadata": {},
   "source": [
    "Нулевая гипотеза H0 - статистически значимых различий в среднем количестве заказов на посетителя между группами нет.\n",
    "\n",
    "Альтернативная гипотеза Н1 - статистически значимые различия есть."
   ]
  },
  {
   "cell_type": "code",
   "execution_count": 37,
   "metadata": {},
   "outputs": [
    {
     "data": {
      "text/plain": [
       "'alpha = 0.05'"
      ]
     },
     "metadata": {},
     "output_type": "display_data"
    },
    {
     "data": {
      "text/plain": [
       "'p-value = 0.011'"
      ]
     },
     "metadata": {},
     "output_type": "display_data"
    },
    {
     "data": {
      "text/plain": [
       "'Относительное отличие среднего числа заказов на посетителя группы B = 0.160'"
      ]
     },
     "metadata": {},
     "output_type": "display_data"
    }
   ],
   "source": [
    "#Применим статистический критерий Манна-Уитни к полученным выборкам\n",
    "display('alpha = 0.05')\n",
    "display('p-value = {0:.3f}'.format(st.mannwhitneyu(sampleA, sampleB, alternative = 'two-sided')[1]))\n",
    "display('Относительное отличие среднего числа заказов на посетителя группы B = {0:.3f}'.format(sampleB.mean()/sampleA.mean()-1)) "
   ]
  },
  {
   "cell_type": "markdown",
   "metadata": {},
   "source": [
    "По итогам проверки p-value = 0.011, что меньше принятых пороговых 0.05, а это означает, что гипотезу H0 - статистически значимых различий в среднем количестве заказов на посетителя между группами нет, придется отвергнуть, поскольку между ними есть статистчески значимые отличия. \n",
    "\n",
    "Группа B опережает группу А на 16%.  "
   ]
  },
  {
   "cell_type": "markdown",
   "metadata": {},
   "source": [
    "### Статистическая значимость различий в среднем чеке заказа между группами по «сырым» данным"
   ]
  },
  {
   "cell_type": "markdown",
   "metadata": {},
   "source": [
    "Для рассчета статистической значимости различий в среднем чеке между группами, передадим критерию mannwhitneyu() данные о выручке с заказов (пороговое значение 5%). И найдём относительные различия в среднем чеке между группами.\n",
    "\n",
    "Нулевая гипотеза H0 - статистически значимых различий в среднем чеке между группами нет.\n",
    "\n",
    "Альтернативная гипотеза Н1 - статистически значимые различия есть."
   ]
  },
  {
   "cell_type": "code",
   "execution_count": 38,
   "metadata": {},
   "outputs": [
    {
     "data": {
      "text/plain": [
       "'alpha = 0.05'"
      ]
     },
     "metadata": {},
     "output_type": "display_data"
    },
    {
     "data": {
      "text/plain": [
       "'p-value = 0.829'"
      ]
     },
     "metadata": {},
     "output_type": "display_data"
    },
    {
     "data": {
      "text/plain": [
       "'Относительное различие среднего чека группы B к группе A = 0.287'"
      ]
     },
     "metadata": {},
     "output_type": "display_data"
    }
   ],
   "source": [
    "#Применим статистический критерий Манна-Уитни к полученным выборкам\n",
    "display('alpha = 0.05')\n",
    "display('p-value = {0:.3f}'.format(st.mannwhitneyu(orders[orders['group']=='A']['revenue'], orders[orders['group']=='B']['revenue'])[1]))\n",
    "display('Относительное различие среднего чека группы B к группе A = {0:.3f}'.format(orders[orders['group']=='B']['revenue'].mean()/orders[orders['group']=='A']['revenue'].mean()-1))"
   ]
  },
  {
   "cell_type": "markdown",
   "metadata": {},
   "source": [
    "p-value существенно больше порогового значения 5%, значит по \"сырым\" данным существенного отличия между средними чеками групп нет, нет причин отвергнуть нулевую гипотезу. При этом средний чек группы B выше, чем у группы А почти на 29%!"
   ]
  },
  {
   "cell_type": "markdown",
   "metadata": {},
   "source": [
    "### Cтатистическая значимость различий в среднем количестве заказов на посетителя между группами по «очищенным» данным"
   ]
  },
  {
   "cell_type": "markdown",
   "metadata": {},
   "source": [
    "Ранее мы приняли за аномальные значения пользователей с заказами > 2 и средним чеком выше 53904."
   ]
  },
  {
   "cell_type": "code",
   "execution_count": 39,
   "metadata": {},
   "outputs": [],
   "source": [
    "usersWithManyOrders = pd.concat(\n",
    "    [\n",
    "        ordersByUsersA[ordersByUsersA['orders'] > 2]['user_id'],\n",
    "        ordersByUsersB[ordersByUsersB['orders'] > 2]['user_id'],\n",
    "    ],\n",
    "    axis=0,\n",
    ")\n",
    "usersWithExpensiveOrders = orders[orders['revenue'] > 53904]['visitor_id']\n",
    "abnormalUsers = (\n",
    "    pd.concat([usersWithManyOrders, usersWithExpensiveOrders], axis=0)\n",
    "    .drop_duplicates()\n",
    "    .sort_values()\n",
    ")"
   ]
  },
  {
   "cell_type": "code",
   "execution_count": 40,
   "metadata": {},
   "outputs": [
    {
     "data": {
      "text/plain": [
       "1099    148427295\n",
       "33      249864742\n",
       "58      611059232\n",
       "949     887908475\n",
       "744     888512513\n",
       "dtype: int64"
      ]
     },
     "metadata": {},
     "output_type": "display_data"
    },
    {
     "data": {
      "text/plain": [
       "16"
      ]
     },
     "metadata": {},
     "output_type": "display_data"
    }
   ],
   "source": [
    "display(abnormalUsers.head())\n",
    "display(len(abnormalUsers))"
   ]
  },
  {
   "cell_type": "markdown",
   "metadata": {},
   "source": [
    "В раздел \"аномальных\" попали 16 пользователей. Проведем повторный анализ без их участия."
   ]
  },
  {
   "cell_type": "code",
   "execution_count": 41,
   "metadata": {},
   "outputs": [],
   "source": [
    "sampleAFiltered = pd.concat([ordersByUsersA[np.logical_not(ordersByUsersA['user_id'].isin(abnormalUsers))]['orders'], \\\n",
    "                             pd.Series(0, index=np.arange(data['visitorsPerDateA'].sum() - len(ordersByUsersA['orders'])), \\\n",
    "                                       name='orders')],axis=0)\n",
    "\n",
    "sampleBFiltered = pd.concat([ordersByUsersB[np.logical_not(ordersByUsersB['user_id'].isin(abnormalUsers))]['orders'], \\\n",
    "                             pd.Series(0, index=np.arange(data['visitorsPerDateB'].sum() - len(ordersByUsersB['orders'])), \\\n",
    "                                       name='orders')],axis=0) "
   ]
  },
  {
   "cell_type": "markdown",
   "metadata": {},
   "source": [
    "Нулевая гипотеза H0 - статистически значимых различий в среднем количестве заказов на посетителя между группами нет.\n",
    "\n",
    "Альтернативная гипотеза Н1 - статистически значимые различия есть."
   ]
  },
  {
   "cell_type": "code",
   "execution_count": 42,
   "metadata": {},
   "outputs": [
    {
     "name": "stdout",
     "output_type": "stream",
     "text": [
      "alpha = 0.05\n",
      "p-value = 0.007\n",
      "Относительное отличие среднего числа заказов на посетителя группы B = 0.189\n"
     ]
    }
   ],
   "source": [
    "#Применим статистический критерий Манна-Уитни к полученным выборкам\n",
    "print('alpha =',0.05)\n",
    "print('p-value = {0:.3f}'.format(st.mannwhitneyu(sampleAFiltered, sampleBFiltered, alternative = 'two-sided')[1]))\n",
    "print('Относительное отличие среднего числа заказов на посетителя группы B = {0:.3f}'.format(sampleBFiltered.mean()/sampleAFiltered.mean()-1)) "
   ]
  },
  {
   "cell_type": "markdown",
   "metadata": {},
   "source": [
    "По итогам проверки p-value = 0.007, что существенно меньше принятых пороговых 0.05, а это означает, что гипотезу H0 - статистически значимых различий в среднем количестве заказов на посетителя между группами нет, по прежнему придется отвергнуть, поскольку между ними есть статистчески значимые отличия.\n",
    "\n",
    "Группа B по прежнему опережает группу А, по \"очищенным\" данным уже на на 18.9% (по \"сырым\" было 16%)."
   ]
  },
  {
   "cell_type": "markdown",
   "metadata": {},
   "source": [
    "### Cтатистическая значимость различий в среднем чеке заказа между группами по «очищенным» данным"
   ]
  },
  {
   "cell_type": "markdown",
   "metadata": {},
   "source": [
    "Нулевая гипотеза H0 - статистически значимых различий в среднем чеке между группами нет.\n",
    "\n",
    "Альтернативная гипотеза Н1 - статистически значимые различия есть."
   ]
  },
  {
   "cell_type": "code",
   "execution_count": 43,
   "metadata": {},
   "outputs": [
    {
     "name": "stdout",
     "output_type": "stream",
     "text": [
      "alpha = 0.05\n",
      "p-value = 0.788\n",
      "Относительный показатель В и А = -0.032\n"
     ]
    }
   ],
   "source": [
    "print('alpha =',0.05)\n",
    "print('p-value = {0:.3f}'.format(st.mannwhitneyu(\n",
    "    orders[np.logical_and(\n",
    "        orders['group']=='A',\n",
    "        np.logical_not(orders['visitor_id'].isin(abnormalUsers)))]['revenue'],\n",
    "    orders[np.logical_and(\n",
    "        orders['group']=='B',\n",
    "        np.logical_not(orders['visitor_id'].isin(abnormalUsers)))]['revenue'], alternative = 'two-sided')[1]))\n",
    "\n",
    "print('Относительный показатель В и А = {0:.3f}'.format(\n",
    "    orders[np.logical_and(orders['group']=='B',np.logical_not(orders['visitor_id'].isin(abnormalUsers)))]['revenue'].mean()/\n",
    "    orders[np.logical_and(\n",
    "        orders['group']=='A',\n",
    "        np.logical_not(orders['visitor_id'].isin(abnormalUsers)))]['revenue'].mean() - 1)) "
   ]
  },
  {
   "cell_type": "markdown",
   "metadata": {},
   "source": [
    "\"Очищенные\" данные помогли разгадать эту загадку, повисшую в воздухе после выводов в пункте 3.11. \n",
    "p-value и в данном случае существенно больше порогового значения 5%, а это значит, что и по \"очищенным\" данным существенного отличия между средними чеками групп нет, нет причин отвергнуть нулевую гипотезу. \n",
    "При этом средний чек группы B по очищенным данным стал ниже, чем у группы А на 3%. Таковым оказалось влияние аномальных чеков на результаты теста."
   ]
  },
  {
   "cell_type": "markdown",
   "metadata": {},
   "source": [
    "# Общие выводы по исследованию"
   ]
  },
  {
   "cell_type": "markdown",
   "metadata": {},
   "source": [
    "Вместе с отделом маркетинга крупного интернет-магазина мы подготовили список из 9 гипотез для увеличения выручки. В рамках исследовательского проекта, была проведена приоретизация гипотез, затем был запущен A/B-тест и проанализированы его результаты. В качестве входных данных в нашем распоряжении было 3 датасета, с маркетинговыми гипотезами, с данными о заказах пользователей и с данными о посещаемости нашего сайта.\n",
    "\n",
    "Над датасетами были произведены необходимые операции для проведения последующего анализа. Данные были проанализированы на наличие пропусков и дубликатов - их не было. Были изменены типы данных в столбцах с датами и временем. Названия столбцов были приведены к единому стандарту - строчное написание в \"змеином\" регистре.\n",
    "В результате мы получили чистые и подготовленные к анализу данные.\n",
    "\n",
    "Участники теста были разбиты на 2 группы. В группу А попали - 46.06% и в группу B - 53.94% пользователей. В целом, распределение равномерное. Дата начала проведения теста - 01.08.2019, дата промежуточного итога 31.08.2019. Количество посетителей в обеих группах равноценно и не повлияло на результаты теста. Перед началом теста датафрейм был так же проанализирован на кросспользователей. Мы обнаружили 58 пользователей попавших в обе группы тестирования, что на наш взгляд могло внести искажения в результаты, поэтому для чистоты тестирования, мы посчитали возможным исключить таких пользователей из участников теста."
   ]
  },
  {
   "cell_type": "markdown",
   "metadata": {},
   "source": [
    "При анализе данных полученных в рамках теста были построены графики:\n",
    "* кумулятивной выручки по группам \n",
    "* кумулятивного среднего чека по группам\n",
    "* относительного изменения кумулятивного среднего чека группы B к группе A\n",
    "* кумулятивного среднего количества заказов на посетителя по группам\n",
    "* относительного изменения кумулятивного среднего количества заказов на посетителя группы B к группе A\n",
    "* точечный график количества заказов по пользователям\n",
    "* точечный график стоимостей заказов\n",
    "\n",
    "Что позволило выявить нам несколько аномальных транзакций. Один из самых ярких примеров - заказ с индексом 425 совершенный 19.08.2019, сумма которого составила 1294500, что многократно выше среднего чека в тесте и существенно исказило показатели некоторых исследуемых графиков.\n",
    "\n",
    "Кроме того, были определены 95-й и 99-й перцентили количества заказов на пользователя и 95-й и 99-й перцентили стоимости заказов, что позволило определить нам рамки нормального поведение пользователей. Выяснили, что пользователь совершает не более 2 заказов и средняя сумма чека не превышает 54000. "
   ]
  },
  {
   "cell_type": "markdown",
   "metadata": {},
   "source": [
    "Далее были проанализированы: \n",
    "* Cтатистическая значимость различий в среднем количестве заказов на посетителя между группами по «сырым» данным\n",
    "* Cтатистическая значимость различий в среднем количестве заказов на посетителя между группами по «очищенным» данным\n",
    "* Статистическая значимость различий в среднем чеке заказа между группами по «сырым» данным\n",
    "* Cтатистическая значимость различий в среднем чеке заказа между группами по «очищенным» данным\n",
    "\n",
    "По результатам этого анализа мы выяснили, что:\n",
    "* Существует существенное отличие в среднем количестве заказов на посетителя между группами, как по \"сырым\", так и по \"очищенным\" данным. \n",
    "* Средний чек группы B показывал существенное превышение над группой А, но до момента очистки данных от аномальных значений. Без них можно констатировать, что средние чеки в двух группах примерно равны"
   ]
  },
  {
   "cell_type": "markdown",
   "metadata": {},
   "source": [
    "Проанализировав всю имеющуюся информацию, мы останавливаем тест и фиксируем победу группы B. \n",
    "Гипотеза хорошо сработала в части увеличения количества заказов, но при этом демонстирует неудовлетворительные результаты в  аспекте увеличения среднего чека пользователя. Работа над повышением данного показателя, это уже детальная работа отдела маркетинга. Показатели стабильны и нет смысла продолжать тестирование данной гипотезы. "
   ]
  }
 ],
 "metadata": {
  "ExecuteTimeLog": [
   {
    "duration": 3,
    "start_time": "2023-03-06T06:27:01.701Z"
   },
   {
    "duration": 1908,
    "start_time": "2023-03-06T06:37:38.415Z"
   },
   {
    "duration": 6,
    "start_time": "2023-03-06T06:43:37.391Z"
   },
   {
    "duration": 8,
    "start_time": "2023-03-06T06:43:45.693Z"
   },
   {
    "duration": 249,
    "start_time": "2023-03-06T06:48:27.989Z"
   },
   {
    "duration": 37,
    "start_time": "2023-03-06T06:52:37.631Z"
   },
   {
    "duration": 36,
    "start_time": "2023-03-06T06:52:52.743Z"
   },
   {
    "duration": 34,
    "start_time": "2023-03-06T06:53:05.952Z"
   },
   {
    "duration": 4,
    "start_time": "2023-03-06T06:53:49.986Z"
   },
   {
    "duration": 20,
    "start_time": "2023-03-06T06:53:53.711Z"
   },
   {
    "duration": 3,
    "start_time": "2023-03-06T06:53:59.535Z"
   },
   {
    "duration": 19,
    "start_time": "2023-03-06T06:54:02.589Z"
   },
   {
    "duration": 6,
    "start_time": "2023-03-06T06:54:53.404Z"
   },
   {
    "duration": 3,
    "start_time": "2023-03-06T06:58:13.935Z"
   },
   {
    "duration": 7,
    "start_time": "2023-03-06T06:58:17.335Z"
   },
   {
    "duration": 18,
    "start_time": "2023-03-06T07:01:10.724Z"
   },
   {
    "duration": 7,
    "start_time": "2023-03-06T07:01:37.143Z"
   },
   {
    "duration": 41,
    "start_time": "2023-03-06T07:05:56.455Z"
   },
   {
    "duration": 12,
    "start_time": "2023-03-06T07:06:06.797Z"
   },
   {
    "duration": 6,
    "start_time": "2023-03-06T07:08:10.044Z"
   },
   {
    "duration": 25,
    "start_time": "2023-03-06T07:08:13.699Z"
   },
   {
    "duration": 6,
    "start_time": "2023-03-06T07:08:58.031Z"
   },
   {
    "duration": 44,
    "start_time": "2023-03-06T07:09:08.881Z"
   },
   {
    "duration": 6,
    "start_time": "2023-03-06T07:09:17.024Z"
   },
   {
    "duration": 25,
    "start_time": "2023-03-06T07:09:18.743Z"
   },
   {
    "duration": 9,
    "start_time": "2023-03-06T07:09:26.381Z"
   },
   {
    "duration": 19,
    "start_time": "2023-03-06T07:09:27.816Z"
   },
   {
    "duration": 8,
    "start_time": "2023-03-06T07:10:57.024Z"
   },
   {
    "duration": 15,
    "start_time": "2023-03-06T07:11:01.824Z"
   },
   {
    "duration": 210,
    "start_time": "2023-03-06T07:11:15.024Z"
   },
   {
    "duration": 10,
    "start_time": "2023-03-06T07:11:27.817Z"
   },
   {
    "duration": 12,
    "start_time": "2023-03-06T07:12:02.605Z"
   },
   {
    "duration": 4,
    "start_time": "2023-03-06T07:12:20.431Z"
   },
   {
    "duration": 4,
    "start_time": "2023-03-06T07:12:30.039Z"
   },
   {
    "duration": 17,
    "start_time": "2023-03-06T07:12:31.589Z"
   },
   {
    "duration": 14,
    "start_time": "2023-03-06T07:13:03.815Z"
   },
   {
    "duration": 23,
    "start_time": "2023-03-06T07:14:28.039Z"
   },
   {
    "duration": 5,
    "start_time": "2023-03-06T07:15:28.431Z"
   },
   {
    "duration": 4,
    "start_time": "2023-03-06T07:15:53.978Z"
   },
   {
    "duration": 9,
    "start_time": "2023-03-06T07:16:10.415Z"
   },
   {
    "duration": 11,
    "start_time": "2023-03-06T07:32:02.515Z"
   },
   {
    "duration": 3,
    "start_time": "2023-03-06T07:34:58.696Z"
   },
   {
    "duration": 9,
    "start_time": "2023-03-06T07:35:01.128Z"
   },
   {
    "duration": 2,
    "start_time": "2023-03-06T07:35:06.517Z"
   },
   {
    "duration": 9,
    "start_time": "2023-03-06T07:35:07.808Z"
   },
   {
    "duration": 3,
    "start_time": "2023-03-06T07:35:51.248Z"
   },
   {
    "duration": 3,
    "start_time": "2023-03-06T07:35:55.001Z"
   },
   {
    "duration": 14,
    "start_time": "2023-03-06T07:35:57.289Z"
   },
   {
    "duration": 7,
    "start_time": "2023-03-06T07:36:14.493Z"
   },
   {
    "duration": 3,
    "start_time": "2023-03-06T07:37:39.143Z"
   },
   {
    "duration": 7,
    "start_time": "2023-03-06T07:37:42.587Z"
   },
   {
    "duration": 9,
    "start_time": "2023-03-06T07:38:22.481Z"
   },
   {
    "duration": 12,
    "start_time": "2023-03-06T07:38:25.246Z"
   },
   {
    "duration": 9,
    "start_time": "2023-03-06T07:39:08.303Z"
   },
   {
    "duration": 9,
    "start_time": "2023-03-06T07:40:31.792Z"
   },
   {
    "duration": 22,
    "start_time": "2023-03-06T07:41:02.646Z"
   },
   {
    "duration": 9,
    "start_time": "2023-03-06T07:41:15.095Z"
   },
   {
    "duration": 16,
    "start_time": "2023-03-06T07:43:30.578Z"
   },
   {
    "duration": 9,
    "start_time": "2023-03-06T07:56:13.191Z"
   },
   {
    "duration": 9,
    "start_time": "2023-03-06T08:14:56.180Z"
   },
   {
    "duration": 7,
    "start_time": "2023-03-06T08:17:31.943Z"
   },
   {
    "duration": 13,
    "start_time": "2023-03-06T08:18:06.081Z"
   },
   {
    "duration": 89,
    "start_time": "2023-03-06T08:18:42.239Z"
   },
   {
    "duration": 8,
    "start_time": "2023-03-06T08:18:49.278Z"
   },
   {
    "duration": 71,
    "start_time": "2023-03-06T08:18:52.679Z"
   },
   {
    "duration": 4,
    "start_time": "2023-03-06T08:18:58.087Z"
   },
   {
    "duration": 9,
    "start_time": "2023-03-06T08:21:28.702Z"
   },
   {
    "duration": 25,
    "start_time": "2023-03-06T08:26:45.651Z"
   },
   {
    "duration": 8,
    "start_time": "2023-03-06T08:26:53.285Z"
   },
   {
    "duration": 8,
    "start_time": "2023-03-06T08:27:18.733Z"
   },
   {
    "duration": 10,
    "start_time": "2023-03-06T08:27:33.494Z"
   },
   {
    "duration": 13,
    "start_time": "2023-03-06T08:40:42.173Z"
   },
   {
    "duration": 18,
    "start_time": "2023-03-06T08:41:35.978Z"
   },
   {
    "duration": 20,
    "start_time": "2023-03-06T08:41:41.579Z"
   },
   {
    "duration": 11,
    "start_time": "2023-03-06T08:42:03.922Z"
   },
   {
    "duration": 8,
    "start_time": "2023-03-06T08:42:15.192Z"
   },
   {
    "duration": 8,
    "start_time": "2023-03-06T08:42:49.418Z"
   },
   {
    "duration": 1648,
    "start_time": "2023-03-06T08:43:02.574Z"
   },
   {
    "duration": 8,
    "start_time": "2023-03-06T08:43:14.618Z"
   },
   {
    "duration": 4,
    "start_time": "2023-03-06T08:43:20.620Z"
   },
   {
    "duration": 4,
    "start_time": "2023-03-06T08:43:38.693Z"
   },
   {
    "duration": 1566,
    "start_time": "2023-03-06T08:43:59.676Z"
   },
   {
    "duration": 1618,
    "start_time": "2023-03-06T08:44:02.018Z"
   },
   {
    "duration": 10,
    "start_time": "2023-03-06T08:44:13.578Z"
   },
   {
    "duration": 4,
    "start_time": "2023-03-06T08:44:20.631Z"
   },
   {
    "duration": 8,
    "start_time": "2023-03-06T08:44:22.010Z"
   },
   {
    "duration": 6,
    "start_time": "2023-03-06T08:46:41.794Z"
   },
   {
    "duration": 25,
    "start_time": "2023-03-06T08:46:53.175Z"
   },
   {
    "duration": 12,
    "start_time": "2023-03-06T08:47:32.495Z"
   },
   {
    "duration": 22,
    "start_time": "2023-03-06T08:47:39.893Z"
   },
   {
    "duration": 13,
    "start_time": "2023-03-06T08:47:45.495Z"
   },
   {
    "duration": 8,
    "start_time": "2023-03-06T08:47:49.724Z"
   },
   {
    "duration": 1203,
    "start_time": "2023-03-06T08:48:03.029Z"
   },
   {
    "duration": 103,
    "start_time": "2023-03-06T08:48:04.235Z"
   },
   {
    "duration": 33,
    "start_time": "2023-03-06T08:48:04.339Z"
   },
   {
    "duration": 10,
    "start_time": "2023-03-06T08:48:04.374Z"
   },
   {
    "duration": 8,
    "start_time": "2023-03-06T08:48:04.386Z"
   },
   {
    "duration": 27,
    "start_time": "2023-03-06T08:48:04.395Z"
   },
   {
    "duration": 6,
    "start_time": "2023-03-06T08:48:04.424Z"
   },
   {
    "duration": 5,
    "start_time": "2023-03-06T08:48:04.431Z"
   },
   {
    "duration": 10,
    "start_time": "2023-03-06T08:48:04.437Z"
   },
   {
    "duration": 53,
    "start_time": "2023-03-06T08:48:04.448Z"
   },
   {
    "duration": 17,
    "start_time": "2023-03-06T08:48:04.505Z"
   },
   {
    "duration": 14,
    "start_time": "2023-03-06T08:48:04.523Z"
   },
   {
    "duration": 4,
    "start_time": "2023-03-06T08:48:04.539Z"
   },
   {
    "duration": 5,
    "start_time": "2023-03-06T08:48:04.546Z"
   },
   {
    "duration": 28,
    "start_time": "2023-03-06T08:48:04.553Z"
   },
   {
    "duration": 21,
    "start_time": "2023-03-06T08:48:04.582Z"
   },
   {
    "duration": 11,
    "start_time": "2023-03-06T08:48:04.608Z"
   },
   {
    "duration": 10,
    "start_time": "2023-03-06T08:48:04.620Z"
   },
   {
    "duration": 3,
    "start_time": "2023-03-06T08:48:04.632Z"
   },
   {
    "duration": 17,
    "start_time": "2023-03-06T08:48:12.385Z"
   },
   {
    "duration": 10,
    "start_time": "2023-03-06T08:48:18.493Z"
   },
   {
    "duration": 1353,
    "start_time": "2023-03-06T08:48:24.097Z"
   },
   {
    "duration": 164,
    "start_time": "2023-03-06T08:48:25.452Z"
   },
   {
    "duration": 27,
    "start_time": "2023-03-06T08:48:25.618Z"
   },
   {
    "duration": 5,
    "start_time": "2023-03-06T08:48:25.648Z"
   },
   {
    "duration": 32,
    "start_time": "2023-03-06T08:48:25.655Z"
   },
   {
    "duration": 35,
    "start_time": "2023-03-06T08:48:25.689Z"
   },
   {
    "duration": 20,
    "start_time": "2023-03-06T08:48:25.726Z"
   },
   {
    "duration": 4,
    "start_time": "2023-03-06T08:48:25.748Z"
   },
   {
    "duration": 19,
    "start_time": "2023-03-06T08:48:25.754Z"
   },
   {
    "duration": 41,
    "start_time": "2023-03-06T08:48:25.777Z"
   },
   {
    "duration": 19,
    "start_time": "2023-03-06T08:48:25.820Z"
   },
   {
    "duration": 5,
    "start_time": "2023-03-06T08:48:25.842Z"
   },
   {
    "duration": 5,
    "start_time": "2023-03-06T08:48:25.848Z"
   },
   {
    "duration": 17,
    "start_time": "2023-03-06T08:48:25.855Z"
   },
   {
    "duration": 32,
    "start_time": "2023-03-06T08:48:25.877Z"
   },
   {
    "duration": 13,
    "start_time": "2023-03-06T08:48:25.912Z"
   },
   {
    "duration": 16,
    "start_time": "2023-03-06T08:48:25.927Z"
   },
   {
    "duration": 67,
    "start_time": "2023-03-06T08:48:25.945Z"
   },
   {
    "duration": 2,
    "start_time": "2023-03-06T08:48:26.014Z"
   },
   {
    "duration": 6,
    "start_time": "2023-03-06T08:50:25.297Z"
   },
   {
    "duration": 139,
    "start_time": "2023-03-06T09:01:09.207Z"
   },
   {
    "duration": 31,
    "start_time": "2023-03-06T09:01:23.785Z"
   },
   {
    "duration": 25,
    "start_time": "2023-03-06T09:01:35.606Z"
   },
   {
    "duration": 199,
    "start_time": "2023-03-06T09:06:00.301Z"
   },
   {
    "duration": 350,
    "start_time": "2023-03-06T09:08:57.350Z"
   },
   {
    "duration": 305,
    "start_time": "2023-03-06T09:09:24.501Z"
   },
   {
    "duration": 323,
    "start_time": "2023-03-06T09:09:35.587Z"
   },
   {
    "duration": 294,
    "start_time": "2023-03-06T09:10:15.980Z"
   },
   {
    "duration": 229,
    "start_time": "2023-03-06T09:11:58.614Z"
   },
   {
    "duration": 263,
    "start_time": "2023-03-06T09:12:05.486Z"
   },
   {
    "duration": 236,
    "start_time": "2023-03-06T09:12:12.103Z"
   },
   {
    "duration": 228,
    "start_time": "2023-03-06T09:12:43.706Z"
   },
   {
    "duration": 263,
    "start_time": "2023-03-06T09:12:49.502Z"
   },
   {
    "duration": 318,
    "start_time": "2023-03-06T09:12:58.389Z"
   },
   {
    "duration": 316,
    "start_time": "2023-03-06T09:14:11.700Z"
   },
   {
    "duration": 1218,
    "start_time": "2023-03-06T09:14:48.691Z"
   },
   {
    "duration": 116,
    "start_time": "2023-03-06T09:14:49.911Z"
   },
   {
    "duration": 21,
    "start_time": "2023-03-06T09:14:50.028Z"
   },
   {
    "duration": 6,
    "start_time": "2023-03-06T09:14:50.050Z"
   },
   {
    "duration": 14,
    "start_time": "2023-03-06T09:14:50.068Z"
   },
   {
    "duration": 22,
    "start_time": "2023-03-06T09:14:50.083Z"
   },
   {
    "duration": 5,
    "start_time": "2023-03-06T09:14:50.107Z"
   },
   {
    "duration": 4,
    "start_time": "2023-03-06T09:14:50.113Z"
   },
   {
    "duration": 6,
    "start_time": "2023-03-06T09:14:50.118Z"
   },
   {
    "duration": 35,
    "start_time": "2023-03-06T09:14:50.125Z"
   },
   {
    "duration": 39,
    "start_time": "2023-03-06T09:14:50.162Z"
   },
   {
    "duration": 18,
    "start_time": "2023-03-06T09:14:50.202Z"
   },
   {
    "duration": 4,
    "start_time": "2023-03-06T09:14:50.222Z"
   },
   {
    "duration": 6,
    "start_time": "2023-03-06T09:14:50.230Z"
   },
   {
    "duration": 37,
    "start_time": "2023-03-06T09:14:50.238Z"
   },
   {
    "duration": 14,
    "start_time": "2023-03-06T09:14:50.277Z"
   },
   {
    "duration": 18,
    "start_time": "2023-03-06T09:14:50.295Z"
   },
   {
    "duration": 12,
    "start_time": "2023-03-06T09:14:50.316Z"
   },
   {
    "duration": 4,
    "start_time": "2023-03-06T09:14:50.329Z"
   },
   {
    "duration": 338,
    "start_time": "2023-03-06T09:14:50.335Z"
   },
   {
    "duration": 350,
    "start_time": "2023-03-06T09:14:50.674Z"
   },
   {
    "duration": 277,
    "start_time": "2023-03-06T09:15:04.240Z"
   },
   {
    "duration": 276,
    "start_time": "2023-03-06T09:15:11.309Z"
   },
   {
    "duration": 277,
    "start_time": "2023-03-06T09:16:29.501Z"
   },
   {
    "duration": 16,
    "start_time": "2023-03-06T11:34:43.225Z"
   },
   {
    "duration": 20,
    "start_time": "2023-03-06T11:34:52.413Z"
   },
   {
    "duration": 17,
    "start_time": "2023-03-06T11:35:16.433Z"
   },
   {
    "duration": 18,
    "start_time": "2023-03-06T11:35:26.896Z"
   },
   {
    "duration": 16,
    "start_time": "2023-03-06T11:35:35.921Z"
   },
   {
    "duration": 18,
    "start_time": "2023-03-06T11:37:42.422Z"
   },
   {
    "duration": 20,
    "start_time": "2023-03-06T11:37:46.405Z"
   },
   {
    "duration": 20,
    "start_time": "2023-03-06T11:37:51.403Z"
   },
   {
    "duration": 16,
    "start_time": "2023-03-06T11:38:18.190Z"
   },
   {
    "duration": 13,
    "start_time": "2023-03-06T11:42:54.415Z"
   },
   {
    "duration": 11,
    "start_time": "2023-03-06T11:44:58.525Z"
   },
   {
    "duration": 27,
    "start_time": "2023-03-06T11:45:58.645Z"
   },
   {
    "duration": 10,
    "start_time": "2023-03-06T11:46:34.809Z"
   },
   {
    "duration": 28,
    "start_time": "2023-03-06T11:47:59.149Z"
   },
   {
    "duration": 13,
    "start_time": "2023-03-06T11:49:04.217Z"
   },
   {
    "duration": 13,
    "start_time": "2023-03-06T11:49:06.413Z"
   },
   {
    "duration": 11,
    "start_time": "2023-03-06T11:51:30.419Z"
   },
   {
    "duration": 186,
    "start_time": "2023-03-06T11:53:51.631Z"
   },
   {
    "duration": 224,
    "start_time": "2023-03-06T11:54:30.010Z"
   },
   {
    "duration": 237,
    "start_time": "2023-03-06T11:54:48.687Z"
   },
   {
    "duration": 13,
    "start_time": "2023-03-06T11:55:39.046Z"
   },
   {
    "duration": 361,
    "start_time": "2023-03-06T11:57:23.005Z"
   },
   {
    "duration": 256,
    "start_time": "2023-03-06T12:12:59.961Z"
   },
   {
    "duration": 365,
    "start_time": "2023-03-06T12:14:40.514Z"
   },
   {
    "duration": 308,
    "start_time": "2023-03-06T12:15:04.092Z"
   },
   {
    "duration": 84,
    "start_time": "2023-03-06T12:15:42.309Z"
   },
   {
    "duration": 304,
    "start_time": "2023-03-06T12:15:59.987Z"
   },
   {
    "duration": 405,
    "start_time": "2023-03-06T12:18:05.918Z"
   },
   {
    "duration": 309,
    "start_time": "2023-03-06T12:31:00.134Z"
   },
   {
    "duration": 182,
    "start_time": "2023-03-06T12:31:23.183Z"
   },
   {
    "duration": 211,
    "start_time": "2023-03-06T12:32:10.150Z"
   },
   {
    "duration": 223,
    "start_time": "2023-03-06T12:32:27.438Z"
   },
   {
    "duration": 205,
    "start_time": "2023-03-06T12:32:44.595Z"
   },
   {
    "duration": 214,
    "start_time": "2023-03-06T12:32:54.310Z"
   },
   {
    "duration": 272,
    "start_time": "2023-03-06T12:32:58.715Z"
   },
   {
    "duration": 205,
    "start_time": "2023-03-06T12:33:03.098Z"
   },
   {
    "duration": 209,
    "start_time": "2023-03-06T12:33:07.702Z"
   },
   {
    "duration": 215,
    "start_time": "2023-03-06T12:33:38.878Z"
   },
   {
    "duration": 220,
    "start_time": "2023-03-06T12:33:45.850Z"
   },
   {
    "duration": 260,
    "start_time": "2023-03-06T12:33:52.734Z"
   },
   {
    "duration": 215,
    "start_time": "2023-03-06T12:34:00.899Z"
   },
   {
    "duration": 242,
    "start_time": "2023-03-06T12:35:07.185Z"
   },
   {
    "duration": 289,
    "start_time": "2023-03-06T12:36:00.886Z"
   },
   {
    "duration": 277,
    "start_time": "2023-03-06T12:36:06.401Z"
   },
   {
    "duration": 226,
    "start_time": "2023-03-06T12:37:26.835Z"
   },
   {
    "duration": 230,
    "start_time": "2023-03-06T13:23:19.969Z"
   },
   {
    "duration": 438,
    "start_time": "2023-03-06T13:41:36.580Z"
   },
   {
    "duration": 345,
    "start_time": "2023-03-06T13:42:15.301Z"
   },
   {
    "duration": 355,
    "start_time": "2023-03-06T13:46:44.286Z"
   },
   {
    "duration": 394,
    "start_time": "2023-03-06T13:46:56.621Z"
   },
   {
    "duration": 343,
    "start_time": "2023-03-06T13:47:13.073Z"
   },
   {
    "duration": 315,
    "start_time": "2023-03-06T13:47:48.569Z"
   },
   {
    "duration": 302,
    "start_time": "2023-03-06T13:48:43.470Z"
   },
   {
    "duration": 351,
    "start_time": "2023-03-06T13:48:55.622Z"
   },
   {
    "duration": 362,
    "start_time": "2023-03-06T13:49:44.728Z"
   },
   {
    "duration": 9,
    "start_time": "2023-03-06T14:03:03.843Z"
   },
   {
    "duration": 15,
    "start_time": "2023-03-06T14:03:15.188Z"
   },
   {
    "duration": 11,
    "start_time": "2023-03-06T14:03:29.424Z"
   },
   {
    "duration": 9,
    "start_time": "2023-03-06T14:04:28.930Z"
   },
   {
    "duration": 14,
    "start_time": "2023-03-06T14:05:05.584Z"
   },
   {
    "duration": 11,
    "start_time": "2023-03-06T14:05:17.114Z"
   },
   {
    "duration": 134,
    "start_time": "2023-03-06T14:05:38.798Z"
   },
   {
    "duration": 130,
    "start_time": "2023-03-06T14:05:53.743Z"
   },
   {
    "duration": 184,
    "start_time": "2023-03-06T14:06:51.524Z"
   },
   {
    "duration": 178,
    "start_time": "2023-03-06T14:06:59.494Z"
   },
   {
    "duration": 239,
    "start_time": "2023-03-06T14:07:06.199Z"
   },
   {
    "duration": 227,
    "start_time": "2023-03-06T14:08:04.144Z"
   },
   {
    "duration": 11,
    "start_time": "2023-03-06T14:13:11.016Z"
   },
   {
    "duration": 1256,
    "start_time": "2023-03-06T14:13:26.584Z"
   },
   {
    "duration": 5,
    "start_time": "2023-03-06T14:13:44.983Z"
   },
   {
    "duration": 5,
    "start_time": "2023-03-06T14:13:51.765Z"
   },
   {
    "duration": 4,
    "start_time": "2023-03-06T14:14:03.682Z"
   },
   {
    "duration": 181,
    "start_time": "2023-03-06T14:19:30.732Z"
   },
   {
    "duration": 200,
    "start_time": "2023-03-06T14:19:36.493Z"
   },
   {
    "duration": 181,
    "start_time": "2023-03-06T14:19:43.721Z"
   },
   {
    "duration": 178,
    "start_time": "2023-03-06T14:19:51.094Z"
   },
   {
    "duration": 180,
    "start_time": "2023-03-06T14:20:07.496Z"
   },
   {
    "duration": 164,
    "start_time": "2023-03-06T14:25:52.317Z"
   },
   {
    "duration": 15,
    "start_time": "2023-03-06T14:26:02.517Z"
   },
   {
    "duration": 173,
    "start_time": "2023-03-06T14:26:14.437Z"
   },
   {
    "duration": 179,
    "start_time": "2023-03-06T14:26:40.492Z"
   },
   {
    "duration": 1114,
    "start_time": "2023-03-06T14:31:53.308Z"
   },
   {
    "duration": 4,
    "start_time": "2023-03-06T14:32:16.490Z"
   },
   {
    "duration": 196,
    "start_time": "2023-03-06T14:35:29.705Z"
   },
   {
    "duration": 162,
    "start_time": "2023-03-06T14:35:40.294Z"
   },
   {
    "duration": 158,
    "start_time": "2023-03-06T14:36:00.225Z"
   },
   {
    "duration": 173,
    "start_time": "2023-03-06T14:44:02.975Z"
   },
   {
    "duration": 270,
    "start_time": "2023-03-06T14:44:08.274Z"
   },
   {
    "duration": 265,
    "start_time": "2023-03-06T15:56:57.798Z"
   },
   {
    "duration": 338,
    "start_time": "2023-03-06T15:57:44.979Z"
   },
   {
    "duration": 115,
    "start_time": "2023-03-06T16:06:06.342Z"
   },
   {
    "duration": 104,
    "start_time": "2023-03-06T16:07:03.201Z"
   },
   {
    "duration": 217,
    "start_time": "2023-03-06T16:10:17.002Z"
   },
   {
    "duration": 241,
    "start_time": "2023-03-06T16:12:30.043Z"
   },
   {
    "duration": 14,
    "start_time": "2023-03-06T16:23:28.781Z"
   },
   {
    "duration": 122,
    "start_time": "2023-03-06T16:23:56.995Z"
   },
   {
    "duration": 7,
    "start_time": "2023-03-06T16:24:04.642Z"
   },
   {
    "duration": 25,
    "start_time": "2023-03-06T16:28:16.561Z"
   },
   {
    "duration": 24,
    "start_time": "2023-03-06T16:28:55.922Z"
   },
   {
    "duration": 24,
    "start_time": "2023-03-06T16:30:59.663Z"
   },
   {
    "duration": 18,
    "start_time": "2023-03-06T16:42:54.881Z"
   },
   {
    "duration": 16,
    "start_time": "2023-03-06T16:43:09.241Z"
   },
   {
    "duration": 14,
    "start_time": "2023-03-06T16:43:15.460Z"
   },
   {
    "duration": 14,
    "start_time": "2023-03-06T16:44:31.474Z"
   },
   {
    "duration": 13,
    "start_time": "2023-03-06T16:46:51.321Z"
   },
   {
    "duration": 12,
    "start_time": "2023-03-06T17:15:38.981Z"
   },
   {
    "duration": 7,
    "start_time": "2023-03-06T17:36:59.420Z"
   },
   {
    "duration": 5,
    "start_time": "2023-03-06T17:37:20.247Z"
   },
   {
    "duration": 5,
    "start_time": "2023-03-06T17:38:22.974Z"
   },
   {
    "duration": 73,
    "start_time": "2023-03-06T17:39:01.491Z"
   },
   {
    "duration": 7,
    "start_time": "2023-03-06T17:39:08.002Z"
   },
   {
    "duration": 7,
    "start_time": "2023-03-06T17:39:14.120Z"
   },
   {
    "duration": 7,
    "start_time": "2023-03-06T17:39:54.022Z"
   },
   {
    "duration": 5,
    "start_time": "2023-03-06T17:40:08.463Z"
   },
   {
    "duration": 7,
    "start_time": "2023-03-06T17:41:55.601Z"
   },
   {
    "duration": 22,
    "start_time": "2023-03-06T17:43:49.274Z"
   },
   {
    "duration": 25,
    "start_time": "2023-03-06T17:44:37.340Z"
   },
   {
    "duration": 22,
    "start_time": "2023-03-06T17:45:01.280Z"
   },
   {
    "duration": 14,
    "start_time": "2023-03-06T17:56:46.316Z"
   },
   {
    "duration": 1112,
    "start_time": "2023-03-06T18:07:49.179Z"
   },
   {
    "duration": 215,
    "start_time": "2023-03-06T18:07:50.293Z"
   },
   {
    "duration": 22,
    "start_time": "2023-03-06T18:07:50.509Z"
   },
   {
    "duration": 5,
    "start_time": "2023-03-06T18:07:50.533Z"
   },
   {
    "duration": 4,
    "start_time": "2023-03-06T18:07:50.541Z"
   },
   {
    "duration": 20,
    "start_time": "2023-03-06T18:07:50.547Z"
   },
   {
    "duration": 6,
    "start_time": "2023-03-06T18:07:50.568Z"
   },
   {
    "duration": 4,
    "start_time": "2023-03-06T18:07:50.575Z"
   },
   {
    "duration": 6,
    "start_time": "2023-03-06T18:07:50.581Z"
   },
   {
    "duration": 16,
    "start_time": "2023-03-06T18:07:50.589Z"
   },
   {
    "duration": 51,
    "start_time": "2023-03-06T18:07:50.607Z"
   },
   {
    "duration": 5,
    "start_time": "2023-03-06T18:07:50.659Z"
   },
   {
    "duration": 4,
    "start_time": "2023-03-06T18:07:50.666Z"
   },
   {
    "duration": 3,
    "start_time": "2023-03-06T18:07:50.674Z"
   },
   {
    "duration": 10,
    "start_time": "2023-03-06T18:07:50.679Z"
   },
   {
    "duration": 13,
    "start_time": "2023-03-06T18:07:50.691Z"
   },
   {
    "duration": 9,
    "start_time": "2023-03-06T18:07:50.706Z"
   },
   {
    "duration": 45,
    "start_time": "2023-03-06T18:07:50.716Z"
   },
   {
    "duration": 4,
    "start_time": "2023-03-06T18:07:50.762Z"
   },
   {
    "duration": 285,
    "start_time": "2023-03-06T18:07:50.768Z"
   },
   {
    "duration": 297,
    "start_time": "2023-03-06T18:07:51.054Z"
   },
   {
    "duration": 9,
    "start_time": "2023-03-06T18:07:51.354Z"
   },
   {
    "duration": 12,
    "start_time": "2023-03-06T18:07:51.364Z"
   },
   {
    "duration": 228,
    "start_time": "2023-03-06T18:07:51.377Z"
   },
   {
    "duration": 310,
    "start_time": "2023-03-06T18:07:51.606Z"
   },
   {
    "duration": 238,
    "start_time": "2023-03-06T18:07:51.918Z"
   },
   {
    "duration": 329,
    "start_time": "2023-03-06T18:07:52.157Z"
   },
   {
    "duration": 11,
    "start_time": "2023-03-06T18:07:52.487Z"
   },
   {
    "duration": 189,
    "start_time": "2023-03-06T18:07:52.499Z"
   },
   {
    "duration": 4,
    "start_time": "2023-03-06T18:07:52.690Z"
   },
   {
    "duration": 176,
    "start_time": "2023-03-06T18:07:52.695Z"
   },
   {
    "duration": 4,
    "start_time": "2023-03-06T18:07:52.872Z"
   },
   {
    "duration": 118,
    "start_time": "2023-03-06T18:07:52.877Z"
   },
   {
    "duration": 0,
    "start_time": "2023-03-06T18:07:52.997Z"
   },
   {
    "duration": 0,
    "start_time": "2023-03-06T18:07:52.999Z"
   },
   {
    "duration": 0,
    "start_time": "2023-03-06T18:07:53.000Z"
   },
   {
    "duration": 0,
    "start_time": "2023-03-06T18:07:53.000Z"
   },
   {
    "duration": 0,
    "start_time": "2023-03-06T18:07:53.001Z"
   },
   {
    "duration": 0,
    "start_time": "2023-03-06T18:07:53.002Z"
   },
   {
    "duration": 0,
    "start_time": "2023-03-06T18:07:53.003Z"
   },
   {
    "duration": 0,
    "start_time": "2023-03-06T18:07:53.004Z"
   },
   {
    "duration": 0,
    "start_time": "2023-03-06T18:07:53.005Z"
   },
   {
    "duration": 0,
    "start_time": "2023-03-06T18:07:53.006Z"
   },
   {
    "duration": 232,
    "start_time": "2023-03-06T18:08:49.069Z"
   },
   {
    "duration": 1175,
    "start_time": "2023-03-06T18:08:55.618Z"
   },
   {
    "duration": 75,
    "start_time": "2023-03-06T18:08:56.795Z"
   },
   {
    "duration": 20,
    "start_time": "2023-03-06T18:08:56.872Z"
   },
   {
    "duration": 4,
    "start_time": "2023-03-06T18:08:56.894Z"
   },
   {
    "duration": 7,
    "start_time": "2023-03-06T18:08:56.900Z"
   },
   {
    "duration": 22,
    "start_time": "2023-03-06T18:08:56.908Z"
   },
   {
    "duration": 8,
    "start_time": "2023-03-06T18:08:56.932Z"
   },
   {
    "duration": 13,
    "start_time": "2023-03-06T18:08:56.942Z"
   },
   {
    "duration": 17,
    "start_time": "2023-03-06T18:08:56.956Z"
   },
   {
    "duration": 22,
    "start_time": "2023-03-06T18:08:56.975Z"
   },
   {
    "duration": 19,
    "start_time": "2023-03-06T18:08:56.998Z"
   },
   {
    "duration": 10,
    "start_time": "2023-03-06T18:08:57.018Z"
   },
   {
    "duration": 9,
    "start_time": "2023-03-06T18:08:57.030Z"
   },
   {
    "duration": 15,
    "start_time": "2023-03-06T18:08:57.040Z"
   },
   {
    "duration": 28,
    "start_time": "2023-03-06T18:08:57.056Z"
   },
   {
    "duration": 10,
    "start_time": "2023-03-06T18:08:57.086Z"
   },
   {
    "duration": 8,
    "start_time": "2023-03-06T18:08:57.097Z"
   },
   {
    "duration": 9,
    "start_time": "2023-03-06T18:08:57.106Z"
   },
   {
    "duration": 3,
    "start_time": "2023-03-06T18:08:57.116Z"
   },
   {
    "duration": 279,
    "start_time": "2023-03-06T18:08:57.121Z"
   },
   {
    "duration": 328,
    "start_time": "2023-03-06T18:08:57.402Z"
   },
   {
    "duration": 10,
    "start_time": "2023-03-06T18:08:57.731Z"
   },
   {
    "duration": 18,
    "start_time": "2023-03-06T18:08:57.742Z"
   },
   {
    "duration": 224,
    "start_time": "2023-03-06T18:08:57.762Z"
   },
   {
    "duration": 292,
    "start_time": "2023-03-06T18:08:57.988Z"
   },
   {
    "duration": 239,
    "start_time": "2023-03-06T18:08:58.281Z"
   },
   {
    "duration": 350,
    "start_time": "2023-03-06T18:08:58.522Z"
   },
   {
    "duration": 11,
    "start_time": "2023-03-06T18:08:58.875Z"
   },
   {
    "duration": 180,
    "start_time": "2023-03-06T18:08:58.887Z"
   },
   {
    "duration": 3,
    "start_time": "2023-03-06T18:08:59.069Z"
   },
   {
    "duration": 166,
    "start_time": "2023-03-06T18:08:59.074Z"
   },
   {
    "duration": 3,
    "start_time": "2023-03-06T18:08:59.242Z"
   },
   {
    "duration": 250,
    "start_time": "2023-03-06T18:08:59.247Z"
   },
   {
    "duration": 210,
    "start_time": "2023-03-06T18:08:59.499Z"
   },
   {
    "duration": 130,
    "start_time": "2023-03-06T18:08:59.710Z"
   },
   {
    "duration": 16,
    "start_time": "2023-03-06T18:08:59.842Z"
   },
   {
    "duration": 24,
    "start_time": "2023-03-06T18:08:59.859Z"
   },
   {
    "duration": 11,
    "start_time": "2023-03-06T18:08:59.884Z"
   },
   {
    "duration": 7,
    "start_time": "2023-03-06T18:08:59.896Z"
   },
   {
    "duration": 6,
    "start_time": "2023-03-06T18:08:59.904Z"
   },
   {
    "duration": 44,
    "start_time": "2023-03-06T18:08:59.911Z"
   },
   {
    "duration": 21,
    "start_time": "2023-03-06T18:08:59.957Z"
   },
   {
    "duration": 12,
    "start_time": "2023-03-06T18:08:59.980Z"
   },
   {
    "duration": 1171,
    "start_time": "2023-03-06T20:30:02.319Z"
   },
   {
    "duration": 81,
    "start_time": "2023-03-06T20:30:03.492Z"
   },
   {
    "duration": 23,
    "start_time": "2023-03-06T20:30:03.575Z"
   },
   {
    "duration": 5,
    "start_time": "2023-03-06T20:30:03.600Z"
   },
   {
    "duration": 17,
    "start_time": "2023-03-06T20:30:03.606Z"
   },
   {
    "duration": 21,
    "start_time": "2023-03-06T20:30:03.625Z"
   },
   {
    "duration": 23,
    "start_time": "2023-03-06T20:30:03.648Z"
   },
   {
    "duration": 4,
    "start_time": "2023-03-06T20:30:03.673Z"
   },
   {
    "duration": 10,
    "start_time": "2023-03-06T20:30:03.678Z"
   },
   {
    "duration": 23,
    "start_time": "2023-03-06T20:30:03.691Z"
   },
   {
    "duration": 20,
    "start_time": "2023-03-06T20:30:03.715Z"
   },
   {
    "duration": 11,
    "start_time": "2023-03-06T20:30:03.737Z"
   },
   {
    "duration": 22,
    "start_time": "2023-03-06T20:30:03.750Z"
   },
   {
    "duration": 26,
    "start_time": "2023-03-06T20:30:03.774Z"
   },
   {
    "duration": 28,
    "start_time": "2023-03-06T20:30:03.802Z"
   },
   {
    "duration": 11,
    "start_time": "2023-03-06T20:30:03.831Z"
   },
   {
    "duration": 10,
    "start_time": "2023-03-06T20:30:03.844Z"
   },
   {
    "duration": 10,
    "start_time": "2023-03-06T20:30:03.856Z"
   },
   {
    "duration": 4,
    "start_time": "2023-03-06T20:30:03.867Z"
   },
   {
    "duration": 298,
    "start_time": "2023-03-06T20:30:03.872Z"
   },
   {
    "duration": 303,
    "start_time": "2023-03-06T20:30:04.172Z"
   },
   {
    "duration": 9,
    "start_time": "2023-03-06T20:30:04.477Z"
   },
   {
    "duration": 12,
    "start_time": "2023-03-06T20:30:04.488Z"
   },
   {
    "duration": 221,
    "start_time": "2023-03-06T20:30:04.502Z"
   },
   {
    "duration": 298,
    "start_time": "2023-03-06T20:30:04.725Z"
   },
   {
    "duration": 263,
    "start_time": "2023-03-06T20:30:05.025Z"
   },
   {
    "duration": 313,
    "start_time": "2023-03-06T20:30:05.289Z"
   },
   {
    "duration": 10,
    "start_time": "2023-03-06T20:30:05.605Z"
   },
   {
    "duration": 182,
    "start_time": "2023-03-06T20:30:05.616Z"
   },
   {
    "duration": 4,
    "start_time": "2023-03-06T20:30:05.800Z"
   },
   {
    "duration": 171,
    "start_time": "2023-03-06T20:30:05.806Z"
   },
   {
    "duration": 3,
    "start_time": "2023-03-06T20:30:05.979Z"
   },
   {
    "duration": 251,
    "start_time": "2023-03-06T20:30:05.984Z"
   },
   {
    "duration": 218,
    "start_time": "2023-03-06T20:30:06.237Z"
   },
   {
    "duration": 122,
    "start_time": "2023-03-06T20:30:06.457Z"
   },
   {
    "duration": 6,
    "start_time": "2023-03-06T20:30:06.581Z"
   },
   {
    "duration": 26,
    "start_time": "2023-03-06T20:30:06.588Z"
   },
   {
    "duration": 12,
    "start_time": "2023-03-06T20:30:06.615Z"
   },
   {
    "duration": 7,
    "start_time": "2023-03-06T20:30:06.628Z"
   },
   {
    "duration": 6,
    "start_time": "2023-03-06T20:30:06.669Z"
   },
   {
    "duration": 13,
    "start_time": "2023-03-06T20:30:06.676Z"
   },
   {
    "duration": 23,
    "start_time": "2023-03-06T20:30:06.690Z"
   },
   {
    "duration": 13,
    "start_time": "2023-03-06T20:30:06.715Z"
   },
   {
    "duration": 1091,
    "start_time": "2023-03-06T20:55:41.723Z"
   },
   {
    "duration": 79,
    "start_time": "2023-03-06T20:55:42.816Z"
   },
   {
    "duration": 21,
    "start_time": "2023-03-06T20:55:42.897Z"
   },
   {
    "duration": 5,
    "start_time": "2023-03-06T20:55:42.920Z"
   },
   {
    "duration": 5,
    "start_time": "2023-03-06T20:55:42.926Z"
   },
   {
    "duration": 19,
    "start_time": "2023-03-06T20:55:42.932Z"
   },
   {
    "duration": 5,
    "start_time": "2023-03-06T20:55:42.952Z"
   },
   {
    "duration": 14,
    "start_time": "2023-03-06T20:55:42.959Z"
   },
   {
    "duration": 7,
    "start_time": "2023-03-06T20:55:42.975Z"
   },
   {
    "duration": 15,
    "start_time": "2023-03-06T20:55:42.984Z"
   },
   {
    "duration": 15,
    "start_time": "2023-03-06T20:55:43.000Z"
   },
   {
    "duration": 4,
    "start_time": "2023-03-06T20:55:43.017Z"
   },
   {
    "duration": 5,
    "start_time": "2023-03-06T20:55:43.023Z"
   },
   {
    "duration": 4,
    "start_time": "2023-03-06T20:55:43.029Z"
   },
   {
    "duration": 42,
    "start_time": "2023-03-06T20:55:43.035Z"
   },
   {
    "duration": 13,
    "start_time": "2023-03-06T20:55:43.079Z"
   },
   {
    "duration": 11,
    "start_time": "2023-03-06T20:55:43.094Z"
   },
   {
    "duration": 18,
    "start_time": "2023-03-06T20:55:43.107Z"
   },
   {
    "duration": 15,
    "start_time": "2023-03-06T20:55:43.126Z"
   },
   {
    "duration": 271,
    "start_time": "2023-03-06T20:55:43.143Z"
   },
   {
    "duration": 299,
    "start_time": "2023-03-06T20:55:43.416Z"
   },
   {
    "duration": 9,
    "start_time": "2023-03-06T20:55:43.717Z"
   },
   {
    "duration": 13,
    "start_time": "2023-03-06T20:55:43.728Z"
   },
   {
    "duration": 233,
    "start_time": "2023-03-06T20:55:43.743Z"
   },
   {
    "duration": 303,
    "start_time": "2023-03-06T20:55:43.978Z"
   },
   {
    "duration": 247,
    "start_time": "2023-03-06T20:55:44.282Z"
   },
   {
    "duration": 327,
    "start_time": "2023-03-06T20:55:44.531Z"
   },
   {
    "duration": 16,
    "start_time": "2023-03-06T20:55:44.861Z"
   },
   {
    "duration": 177,
    "start_time": "2023-03-06T20:55:44.878Z"
   },
   {
    "duration": 4,
    "start_time": "2023-03-06T20:55:45.057Z"
   },
   {
    "duration": 199,
    "start_time": "2023-03-06T20:55:45.062Z"
   },
   {
    "duration": 7,
    "start_time": "2023-03-06T20:55:45.263Z"
   },
   {
    "duration": 236,
    "start_time": "2023-03-06T20:55:45.272Z"
   },
   {
    "duration": 218,
    "start_time": "2023-03-06T20:55:45.510Z"
   },
   {
    "duration": 123,
    "start_time": "2023-03-06T20:55:45.730Z"
   },
   {
    "duration": 17,
    "start_time": "2023-03-06T20:55:45.854Z"
   },
   {
    "duration": 36,
    "start_time": "2023-03-06T20:55:45.872Z"
   },
   {
    "duration": 12,
    "start_time": "2023-03-06T20:55:45.909Z"
   },
   {
    "duration": 8,
    "start_time": "2023-03-06T20:55:45.922Z"
   },
   {
    "duration": 7,
    "start_time": "2023-03-06T20:55:45.931Z"
   },
   {
    "duration": 30,
    "start_time": "2023-03-06T20:55:45.939Z"
   },
   {
    "duration": 22,
    "start_time": "2023-03-06T20:55:45.971Z"
   },
   {
    "duration": 13,
    "start_time": "2023-03-06T20:55:45.995Z"
   },
   {
    "duration": 1708,
    "start_time": "2023-03-06T21:18:13.112Z"
   },
   {
    "duration": 89,
    "start_time": "2023-03-06T21:18:14.821Z"
   },
   {
    "duration": 22,
    "start_time": "2023-03-06T21:18:14.911Z"
   },
   {
    "duration": 5,
    "start_time": "2023-03-06T21:18:14.935Z"
   },
   {
    "duration": 13,
    "start_time": "2023-03-06T21:18:14.941Z"
   },
   {
    "duration": 27,
    "start_time": "2023-03-06T21:18:14.956Z"
   },
   {
    "duration": 47,
    "start_time": "2023-03-06T21:18:14.984Z"
   },
   {
    "duration": 11,
    "start_time": "2023-03-06T21:18:15.033Z"
   },
   {
    "duration": 10,
    "start_time": "2023-03-06T21:18:15.045Z"
   },
   {
    "duration": 20,
    "start_time": "2023-03-06T21:18:15.077Z"
   },
   {
    "duration": 17,
    "start_time": "2023-03-06T21:18:15.099Z"
   },
   {
    "duration": 5,
    "start_time": "2023-03-06T21:18:15.117Z"
   },
   {
    "duration": 45,
    "start_time": "2023-03-06T21:18:15.123Z"
   },
   {
    "duration": 12,
    "start_time": "2023-03-06T21:18:15.174Z"
   },
   {
    "duration": 15,
    "start_time": "2023-03-06T21:18:15.188Z"
   },
   {
    "duration": 11,
    "start_time": "2023-03-06T21:18:15.205Z"
   },
   {
    "duration": 169,
    "start_time": "2023-03-06T21:18:15.218Z"
   },
   {
    "duration": 10,
    "start_time": "2023-03-06T21:18:15.389Z"
   },
   {
    "duration": 9,
    "start_time": "2023-03-06T21:18:15.401Z"
   },
   {
    "duration": 708,
    "start_time": "2023-03-06T21:18:15.481Z"
   },
   {
    "duration": 620,
    "start_time": "2023-03-06T21:18:16.190Z"
   },
   {
    "duration": 74,
    "start_time": "2023-03-06T21:18:16.811Z"
   },
   {
    "duration": 15,
    "start_time": "2023-03-06T21:18:16.886Z"
   },
   {
    "duration": 472,
    "start_time": "2023-03-06T21:18:16.903Z"
   },
   {
    "duration": 528,
    "start_time": "2023-03-06T21:18:17.381Z"
   },
   {
    "duration": 577,
    "start_time": "2023-03-06T21:18:17.911Z"
   },
   {
    "duration": 611,
    "start_time": "2023-03-06T21:18:18.490Z"
   },
   {
    "duration": 70,
    "start_time": "2023-03-06T21:18:19.104Z"
   },
   {
    "duration": 405,
    "start_time": "2023-03-06T21:18:19.184Z"
   },
   {
    "duration": 5,
    "start_time": "2023-03-06T21:18:19.591Z"
   },
   {
    "duration": 485,
    "start_time": "2023-03-06T21:18:19.598Z"
   },
   {
    "duration": 7,
    "start_time": "2023-03-06T21:18:20.085Z"
   },
   {
    "duration": 520,
    "start_time": "2023-03-06T21:18:20.094Z"
   },
   {
    "duration": 578,
    "start_time": "2023-03-06T21:18:20.616Z"
   },
   {
    "duration": 291,
    "start_time": "2023-03-06T21:18:21.196Z"
   },
   {
    "duration": 6,
    "start_time": "2023-03-06T21:18:21.489Z"
   },
   {
    "duration": 106,
    "start_time": "2023-03-06T21:18:21.496Z"
   },
   {
    "duration": 76,
    "start_time": "2023-03-06T21:18:21.604Z"
   },
   {
    "duration": 8,
    "start_time": "2023-03-06T21:18:21.682Z"
   },
   {
    "duration": 8,
    "start_time": "2023-03-06T21:18:21.692Z"
   },
   {
    "duration": 75,
    "start_time": "2023-03-06T21:18:21.702Z"
   },
   {
    "duration": 24,
    "start_time": "2023-03-06T21:18:21.782Z"
   },
   {
    "duration": 71,
    "start_time": "2023-03-06T21:18:21.808Z"
   },
   {
    "duration": 95,
    "start_time": "2023-03-06T21:25:35.231Z"
   },
   {
    "duration": 1316,
    "start_time": "2023-03-07T07:20:19.082Z"
   },
   {
    "duration": 196,
    "start_time": "2023-03-07T07:20:20.401Z"
   },
   {
    "duration": 24,
    "start_time": "2023-03-07T07:20:20.599Z"
   },
   {
    "duration": 5,
    "start_time": "2023-03-07T07:20:20.624Z"
   },
   {
    "duration": 7,
    "start_time": "2023-03-07T07:20:20.632Z"
   },
   {
    "duration": 32,
    "start_time": "2023-03-07T07:20:20.641Z"
   },
   {
    "duration": 5,
    "start_time": "2023-03-07T07:20:20.674Z"
   },
   {
    "duration": 7,
    "start_time": "2023-03-07T07:20:20.681Z"
   },
   {
    "duration": 14,
    "start_time": "2023-03-07T07:20:20.690Z"
   },
   {
    "duration": 20,
    "start_time": "2023-03-07T07:20:20.706Z"
   },
   {
    "duration": 31,
    "start_time": "2023-03-07T07:20:20.727Z"
   },
   {
    "duration": 4,
    "start_time": "2023-03-07T07:20:20.760Z"
   },
   {
    "duration": 10,
    "start_time": "2023-03-07T07:20:20.766Z"
   },
   {
    "duration": 8,
    "start_time": "2023-03-07T07:20:20.779Z"
   },
   {
    "duration": 18,
    "start_time": "2023-03-07T07:20:20.789Z"
   },
   {
    "duration": 11,
    "start_time": "2023-03-07T07:20:20.808Z"
   },
   {
    "duration": 18,
    "start_time": "2023-03-07T07:20:20.821Z"
   },
   {
    "duration": 10,
    "start_time": "2023-03-07T07:20:20.857Z"
   },
   {
    "duration": 15,
    "start_time": "2023-03-07T07:20:20.869Z"
   },
   {
    "duration": 306,
    "start_time": "2023-03-07T07:20:20.886Z"
   },
   {
    "duration": 324,
    "start_time": "2023-03-07T07:20:21.193Z"
   },
   {
    "duration": 10,
    "start_time": "2023-03-07T07:20:21.518Z"
   },
   {
    "duration": 26,
    "start_time": "2023-03-07T07:20:21.530Z"
   },
   {
    "duration": 234,
    "start_time": "2023-03-07T07:20:21.558Z"
   },
   {
    "duration": 391,
    "start_time": "2023-03-07T07:20:21.794Z"
   },
   {
    "duration": 253,
    "start_time": "2023-03-07T07:20:22.187Z"
   },
   {
    "duration": 524,
    "start_time": "2023-03-07T07:20:22.441Z"
   },
   {
    "duration": 13,
    "start_time": "2023-03-07T07:20:22.967Z"
   },
   {
    "duration": 223,
    "start_time": "2023-03-07T07:20:22.982Z"
   },
   {
    "duration": 4,
    "start_time": "2023-03-07T07:20:23.207Z"
   },
   {
    "duration": 191,
    "start_time": "2023-03-07T07:20:23.213Z"
   },
   {
    "duration": 4,
    "start_time": "2023-03-07T07:20:23.407Z"
   },
   {
    "duration": 287,
    "start_time": "2023-03-07T07:20:23.413Z"
   },
   {
    "duration": 245,
    "start_time": "2023-03-07T07:20:23.702Z"
   },
   {
    "duration": 137,
    "start_time": "2023-03-07T07:20:23.948Z"
   },
   {
    "duration": 7,
    "start_time": "2023-03-07T07:20:24.087Z"
   },
   {
    "duration": 40,
    "start_time": "2023-03-07T07:20:24.095Z"
   },
   {
    "duration": 28,
    "start_time": "2023-03-07T07:20:24.137Z"
   },
   {
    "duration": 7,
    "start_time": "2023-03-07T07:20:24.167Z"
   },
   {
    "duration": 8,
    "start_time": "2023-03-07T07:20:24.176Z"
   },
   {
    "duration": 10,
    "start_time": "2023-03-07T07:20:24.188Z"
   },
   {
    "duration": 30,
    "start_time": "2023-03-07T07:20:24.200Z"
   },
   {
    "duration": 37,
    "start_time": "2023-03-07T07:20:24.232Z"
   },
   {
    "duration": 6,
    "start_time": "2023-03-07T07:21:51.610Z"
   },
   {
    "duration": 11,
    "start_time": "2023-03-07T07:21:58.330Z"
   },
   {
    "duration": 66,
    "start_time": "2023-03-07T07:22:11.129Z"
   },
   {
    "duration": 4,
    "start_time": "2023-03-07T07:22:20.890Z"
   },
   {
    "duration": 7,
    "start_time": "2023-03-07T07:25:42.378Z"
   },
   {
    "duration": 6,
    "start_time": "2023-03-07T07:28:13.003Z"
   },
   {
    "duration": 104,
    "start_time": "2023-03-07T07:30:38.153Z"
   },
   {
    "duration": 6,
    "start_time": "2023-03-07T07:30:46.411Z"
   },
   {
    "duration": 3,
    "start_time": "2023-03-07T07:41:51.374Z"
   },
   {
    "duration": 11,
    "start_time": "2023-03-07T07:41:57.294Z"
   },
   {
    "duration": 4,
    "start_time": "2023-03-07T07:42:43.087Z"
   },
   {
    "duration": 70,
    "start_time": "2023-03-07T07:43:24.094Z"
   },
   {
    "duration": 5,
    "start_time": "2023-03-07T07:43:31.265Z"
   },
   {
    "duration": 5,
    "start_time": "2023-03-07T07:44:11.454Z"
   },
   {
    "duration": 9,
    "start_time": "2023-03-07T07:44:49.380Z"
   },
   {
    "duration": 11,
    "start_time": "2023-03-07T07:46:38.014Z"
   },
   {
    "duration": 9,
    "start_time": "2023-03-07T07:46:59.785Z"
   },
   {
    "duration": 7,
    "start_time": "2023-03-07T07:47:37.891Z"
   },
   {
    "duration": 5,
    "start_time": "2023-03-07T07:48:14.188Z"
   },
   {
    "duration": 5,
    "start_time": "2023-03-07T07:48:27.189Z"
   },
   {
    "duration": 8,
    "start_time": "2023-03-07T07:48:39.503Z"
   },
   {
    "duration": 6,
    "start_time": "2023-03-07T07:48:58.278Z"
   },
   {
    "duration": 7,
    "start_time": "2023-03-07T07:55:09.215Z"
   },
   {
    "duration": 6,
    "start_time": "2023-03-07T07:55:19.588Z"
   },
   {
    "duration": 6,
    "start_time": "2023-03-07T07:56:42.814Z"
   },
   {
    "duration": 5,
    "start_time": "2023-03-07T07:56:59.677Z"
   },
   {
    "duration": 7,
    "start_time": "2023-03-07T07:57:03.784Z"
   },
   {
    "duration": 3,
    "start_time": "2023-03-07T07:57:14.015Z"
   },
   {
    "duration": 4,
    "start_time": "2023-03-07T07:57:25.295Z"
   },
   {
    "duration": 3,
    "start_time": "2023-03-07T07:58:21.697Z"
   },
   {
    "duration": 4,
    "start_time": "2023-03-07T07:58:23.490Z"
   },
   {
    "duration": 3,
    "start_time": "2023-03-07T07:58:54.943Z"
   },
   {
    "duration": 4,
    "start_time": "2023-03-07T07:59:10.992Z"
   },
   {
    "duration": 12,
    "start_time": "2023-03-07T08:02:02.543Z"
   },
   {
    "duration": 3,
    "start_time": "2023-03-07T08:02:25.686Z"
   },
   {
    "duration": 7,
    "start_time": "2023-03-07T08:02:31.216Z"
   },
   {
    "duration": 5,
    "start_time": "2023-03-07T08:09:42.101Z"
   },
   {
    "duration": 14,
    "start_time": "2023-03-07T08:10:01.396Z"
   },
   {
    "duration": 11,
    "start_time": "2023-03-07T08:12:36.100Z"
   },
   {
    "duration": 6,
    "start_time": "2023-03-07T08:13:52.546Z"
   },
   {
    "duration": 6,
    "start_time": "2023-03-07T08:14:29.596Z"
   },
   {
    "duration": 4,
    "start_time": "2023-03-07T08:24:10.228Z"
   },
   {
    "duration": 5,
    "start_time": "2023-03-07T08:24:15.505Z"
   },
   {
    "duration": 5,
    "start_time": "2023-03-07T08:24:57.904Z"
   },
   {
    "duration": 5,
    "start_time": "2023-03-07T08:25:59.105Z"
   },
   {
    "duration": 9,
    "start_time": "2023-03-07T08:34:29.697Z"
   },
   {
    "duration": 14,
    "start_time": "2023-03-07T08:34:43.652Z"
   },
   {
    "duration": 7,
    "start_time": "2023-03-07T08:34:56.795Z"
   },
   {
    "duration": 9,
    "start_time": "2023-03-07T08:37:11.120Z"
   },
   {
    "duration": 11,
    "start_time": "2023-03-07T08:37:20.949Z"
   },
   {
    "duration": 10,
    "start_time": "2023-03-07T08:37:35.396Z"
   },
   {
    "duration": 170,
    "start_time": "2023-03-07T08:38:10.994Z"
   },
   {
    "duration": 180,
    "start_time": "2023-03-07T08:39:54.629Z"
   },
   {
    "duration": 286,
    "start_time": "2023-03-07T08:40:59.921Z"
   },
   {
    "duration": 293,
    "start_time": "2023-03-07T08:41:29.201Z"
   },
   {
    "duration": 315,
    "start_time": "2023-03-07T08:41:36.454Z"
   },
   {
    "duration": 278,
    "start_time": "2023-03-07T08:41:54.343Z"
   },
   {
    "duration": 197,
    "start_time": "2023-03-07T08:42:12.023Z"
   },
   {
    "duration": 187,
    "start_time": "2023-03-07T08:42:29.025Z"
   },
   {
    "duration": 173,
    "start_time": "2023-03-07T08:42:33.821Z"
   },
   {
    "duration": 296,
    "start_time": "2023-03-07T08:42:49.792Z"
   },
   {
    "duration": 224,
    "start_time": "2023-03-07T08:42:59.796Z"
   },
   {
    "duration": 316,
    "start_time": "2023-03-07T08:44:23.830Z"
   },
   {
    "duration": 213,
    "start_time": "2023-03-07T08:45:48.005Z"
   },
   {
    "duration": 284,
    "start_time": "2023-03-07T08:46:03.604Z"
   },
   {
    "duration": 227,
    "start_time": "2023-03-07T08:46:12.508Z"
   },
   {
    "duration": 7,
    "start_time": "2023-03-07T08:58:05.309Z"
   },
   {
    "duration": 8,
    "start_time": "2023-03-07T08:58:14.712Z"
   },
   {
    "duration": 1753,
    "start_time": "2023-03-07T08:58:35.032Z"
   },
   {
    "duration": 1207,
    "start_time": "2023-03-07T08:59:08.307Z"
   },
   {
    "duration": 608,
    "start_time": "2023-03-07T09:01:08.624Z"
   },
   {
    "duration": 21,
    "start_time": "2023-03-07T09:09:18.803Z"
   },
   {
    "duration": 251,
    "start_time": "2023-03-07T09:10:32.457Z"
   },
   {
    "duration": 256,
    "start_time": "2023-03-07T09:11:27.640Z"
   },
   {
    "duration": 11,
    "start_time": "2023-03-07T09:11:48.744Z"
   },
   {
    "duration": 8,
    "start_time": "2023-03-07T09:12:01.656Z"
   },
   {
    "duration": 8,
    "start_time": "2023-03-07T09:12:07.659Z"
   },
   {
    "duration": 264,
    "start_time": "2023-03-07T09:13:06.423Z"
   },
   {
    "duration": 288,
    "start_time": "2023-03-07T09:19:09.844Z"
   },
   {
    "duration": 254,
    "start_time": "2023-03-07T09:19:13.308Z"
   },
   {
    "duration": 3,
    "start_time": "2023-03-07T09:29:57.420Z"
   },
   {
    "duration": 62,
    "start_time": "2023-03-07T09:33:14.651Z"
   },
   {
    "duration": 54,
    "start_time": "2023-03-07T09:33:19.818Z"
   },
   {
    "duration": 8,
    "start_time": "2023-03-07T09:37:24.617Z"
   },
   {
    "duration": 5,
    "start_time": "2023-03-07T09:38:31.130Z"
   },
   {
    "duration": 4,
    "start_time": "2023-03-07T09:38:39.258Z"
   },
   {
    "duration": 4,
    "start_time": "2023-03-07T09:38:46.457Z"
   },
   {
    "duration": 5,
    "start_time": "2023-03-07T09:39:11.929Z"
   }
  ],
  "kernelspec": {
   "display_name": "Python 3 (ipykernel)",
   "language": "python",
   "name": "python3"
  },
  "language_info": {
   "codemirror_mode": {
    "name": "ipython",
    "version": 3
   },
   "file_extension": ".py",
   "mimetype": "text/x-python",
   "name": "python",
   "nbconvert_exporter": "python",
   "pygments_lexer": "ipython3",
   "version": "3.9.13"
  },
  "toc": {
   "base_numbering": 1,
   "nav_menu": {
    "height": "451px",
    "width": "288px"
   },
   "number_sections": true,
   "sideBar": true,
   "skip_h1_title": true,
   "title_cell": "Table of Contents",
   "title_sidebar": "Contents",
   "toc_cell": false,
   "toc_position": {},
   "toc_section_display": true,
   "toc_window_display": false
  }
 },
 "nbformat": 4,
 "nbformat_minor": 2
}
